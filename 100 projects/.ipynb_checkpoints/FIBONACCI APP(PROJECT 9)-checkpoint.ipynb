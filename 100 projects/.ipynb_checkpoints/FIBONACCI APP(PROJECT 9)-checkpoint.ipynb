{
 "cells": [
  {
   "cell_type": "markdown",
   "id": "c28fbfa4-c8f2-454d-9129-c41bef962b77",
   "metadata": {},
   "source": [
    "### FIBONACCI NUMBERS"
   ]
  },
  {
   "cell_type": "markdown",
   "id": "08085fe5-8aac-4076-9918-76c3e31c0312",
   "metadata": {},
   "source": [
    "1. Generate N Fibonacci numbers\n",
    "2. Find nth Fibonacci number\n",
    "3. Check if a number is Fibonacci\n",
    "4. Print Fibonacci in a range\n",
    "5. Save sequence to file\n",
    "6. Exit"
   ]
  },
  {
   "cell_type": "code",
   "execution_count": 11,
   "id": "dbf48fca-deab-4370-b4fb-3ee49c9cf9e7",
   "metadata": {},
   "outputs": [
    {
     "name": "stdout",
     "output_type": "stream",
     "text": [
      "---FEATURES---\n",
      "1.Generate N Fibonacci numbers\n",
      "2.Find nth Fibonacci number\n",
      "3.Check if a number is Fibonacci\n",
      "4.Print Fibonacci in a range\n",
      "5.Save sequence to file\n",
      "6.Exit\n"
     ]
    },
    {
     "name": "stdin",
     "output_type": "stream",
     "text": [
      "enter the number of the operation you want to perform 5\n",
      "enter the sequnce 5\n"
     ]
    },
    {
     "name": "stdout",
     "output_type": "stream",
     "text": [
      "1,2,3,5,8,\n",
      "\n",
      "Fibonacci sequence of 5 terms saved in fibonacci.txt\n"
     ]
    },
    {
     "name": "stdin",
     "output_type": "stream",
     "text": [
      "enter the number of the operation you want to perform 6\n"
     ]
    },
    {
     "name": "stdout",
     "output_type": "stream",
     "text": [
      "ended\n"
     ]
    }
   ],
   "source": [
    "print(\"---FEATURES---\")\n",
    "print(\"1.Generate N Fibonacci numbers\")\n",
    "print(\"2.Find nth Fibonacci number\")\n",
    "print(\"3.Check if a number is Fibonacci\")\n",
    "print(\"4.Print Fibonacci in a range\")\n",
    "print(\"5.Save sequence to file\")\n",
    "print(\"6.Exit\")\n",
    "while True:\n",
    "    choice=int(input(\"enter the number of the operation you want to perform\"))\n",
    "    first=0\n",
    "    second=1\n",
    "    if choice==6:\n",
    "        print(\"ended\")\n",
    "        break\n",
    "    elif choice==1:\n",
    "        n=int(input(\"Fibbonaci sequnce of which term\"))\n",
    "        for i in range(1,n+1):\n",
    "            next=first+second\n",
    "            first=second\n",
    "            second=next\n",
    "        print(f\"The number is:{next}\")\n",
    "    elif choice==2:\n",
    "        n=int(input(\"enter the  fibbonaci number you want the nth number of\"))\n",
    "        for i in range(1,n+1):\n",
    "            next=first+second\n",
    "            first=second\n",
    "            second=next\n",
    "            if n==next:\n",
    "                print(i+2)\n",
    "                break\n",
    "            elif n==1 :\n",
    "                print(2)\n",
    "                break\n",
    "            elif n==2:\n",
    "                print(1)\n",
    "                break\n",
    "    elif choice==3:\n",
    "        y=0\n",
    "        n=int(input(\"Put the number you want to check is a fibbonaci sequence\"))\n",
    "        if  n==1 or n==0:\n",
    "                print(\"The no is fibbonaci\")\n",
    "                break\n",
    "        while second<=n:\n",
    "            next=first+second\n",
    "            first=second\n",
    "            second=next\n",
    "            if next==n or n==1 or n==0:\n",
    "                print(f\"The number {n} is fibbonaci\")\n",
    "                y=1\n",
    "                break\n",
    "        if y==0:\n",
    "            print(f\"the given no {n} is not fibbonaci\")\n",
    "    elif choice==4:\n",
    "        n=int(input(\"enter the nth term for the range\"))\n",
    "        for i in range(1,n+1):\n",
    "            next=first+second\n",
    "            first=second\n",
    "            second=next\n",
    "            print(next,end =\",\")\n",
    "    elif choice==5:\n",
    "        with open(\"fibonacci.txt\", \"w\") as f:\n",
    "            n=int(input(\"enter the sequnce\"))\n",
    "            for i in range(1,n+1):\n",
    "                f.write(str(first)+\"\\n\")\n",
    "                next=first+second\n",
    "                first=second\n",
    "                second=next\n",
    "                print(next,end =\",\")\n",
    "        print(\"\\n\")\n",
    "        print(f\"Fibonacci sequence of {n} terms saved in fibonacci.txt\")\n",
    "        \n",
    "        \n",
    "            \n",
    "            \n",
    "        \n",
    "                \n",
    "    \n",
    "        \n",
    "        "
   ]
  },
  {
   "cell_type": "code",
   "execution_count": null,
   "id": "b4022f42-1f72-455d-ad8e-0cdd994dd7e4",
   "metadata": {},
   "outputs": [],
   "source": []
  }
 ],
 "metadata": {
  "kernelspec": {
   "display_name": "Python 3 (ipykernel)",
   "language": "python",
   "name": "python3"
  },
  "language_info": {
   "codemirror_mode": {
    "name": "ipython",
    "version": 3
   },
   "file_extension": ".py",
   "mimetype": "text/x-python",
   "name": "python",
   "nbconvert_exporter": "python",
   "pygments_lexer": "ipython3",
   "version": "3.12.4"
  }
 },
 "nbformat": 4,
 "nbformat_minor": 5
}

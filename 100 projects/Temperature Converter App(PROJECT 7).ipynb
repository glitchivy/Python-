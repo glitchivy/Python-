{
 "cells": [
  {
   "cell_type": "markdown",
   "id": "c6b8f175-8ec1-4823-b1f6-cec7297db840",
   "metadata": {},
   "source": [
    "### Temperature Converter"
   ]
  },
  {
   "cell_type": "code",
   "execution_count": 1,
   "id": "d7ad67eb-153e-42e6-96a0-ae5ec8977bb0",
   "metadata": {},
   "outputs": [
    {
     "name": "stdin",
     "output_type": "stream",
     "text": [
      "ENTER THE TEMP IN CELCIUS 66\n"
     ]
    },
    {
     "name": "stdout",
     "output_type": "stream",
     "text": [
      "THE TEMP IN FAHRENHEIT 150.8\n"
     ]
    }
   ],
   "source": [
    "cel= float(input(\"ENTER THE TEMP IN CELCIUS\"))\n",
    "far= (9/5)*cel+32 \n",
    "print(\"THE TEMP IN FAHRENHEIT\",far)"
   ]
  },
  {
   "cell_type": "markdown",
   "id": "5ad67129-5165-4ec0-955a-d9faa45a11c5",
   "metadata": {},
   "source": [
    "### Temperature Converter App"
   ]
  },
  {
   "cell_type": "code",
   "execution_count": 8,
   "id": "d4cdcb62-6fe7-4f00-a277-86eb4a3c2c25",
   "metadata": {},
   "outputs": [
    {
     "name": "stdout",
     "output_type": "stream",
     "text": [
      "WELCOME TO TEMPERATURE CONVERTER APP\n",
      "FEATURES\n",
      "1.Celsius to Fahrenheit\n",
      "2.Fahrenheit to Celsius\n",
      "3.Celsius to Kelvin\n",
      "4.Kelvin to Celsius\n",
      "5.Multi-Temperature Conversion\n",
      "6.EXIT\n"
     ]
    },
    {
     "name": "stdin",
     "output_type": "stream",
     "text": [
      "Enter the number of the operation you want to perform  5\n",
      "ENTER THE NO OF OPERATION YOU WANT TO PERFORM 4\n",
      "ENTER THE TEMP YOU WANT IN CELSIUS 32\n"
     ]
    },
    {
     "name": "stdout",
     "output_type": "stream",
     "text": [
      "celsius: -14.222222222222221\n",
      "kelvin: 305\n"
     ]
    },
    {
     "name": "stdin",
     "output_type": "stream",
     "text": [
      "ENTER THE TEMP YOU WANT IN CELSIUS 3\n"
     ]
    },
    {
     "name": "stdout",
     "output_type": "stream",
     "text": [
      "celsius: -30.333333333333332\n",
      "kelvin: 305\n"
     ]
    },
    {
     "name": "stdin",
     "output_type": "stream",
     "text": [
      "ENTER THE TEMP YOU WANT IN CELSIUS 45\n"
     ]
    },
    {
     "name": "stdout",
     "output_type": "stream",
     "text": [
      "celsius: -7.0\n",
      "kelvin: 305\n"
     ]
    },
    {
     "name": "stdin",
     "output_type": "stream",
     "text": [
      "ENTER THE TEMP YOU WANT IN CELSIUS 100\n"
     ]
    },
    {
     "name": "stdout",
     "output_type": "stream",
     "text": [
      "celsius: 23.555555555555557\n",
      "kelvin: 305\n"
     ]
    },
    {
     "name": "stdin",
     "output_type": "stream",
     "text": [
      "Enter the number of the operation you want to perform  6\n"
     ]
    },
    {
     "name": "stdout",
     "output_type": "stream",
     "text": [
      "END .....\n"
     ]
    }
   ],
   "source": [
    "print(\"WELCOME TO TEMPERATURE CONVERTER APP\")\n",
    "print(\"FEATURES\")\n",
    "print(\"1.Celsius to Fahrenheit\")\n",
    "print(\"2.Fahrenheit to Celsius\")\n",
    "print(\"3.Celsius to Kelvin\")\n",
    "print(\"4.Kelvin to Celsius\")\n",
    "print(\"5.Multi-Temperature Conversion\")\n",
    "print(\"6.EXIT\")\n",
    "\n",
    "while True:\n",
    "    choice=input(\"Enter the number of the operation you want to perform \")\n",
    "    if choice=='1':\n",
    "        Tempreature=int(input(\"enter the temp in celsius\"))\n",
    "        fahrenheit=(9/5)*Tempreature+32\n",
    "        print(f\"The celsius temp of {Tempreature} in fahrenheit is {fahrenheit}\")\n",
    "    elif choice=='2':\n",
    "        Tempreature=int(input(\"enter the temp in fahrenheit\"))\n",
    "        celsius=(5/9)*Tempreature-32\n",
    "        print(f\"The  temp of {Tempreature} in celsius is {celsius}\")\n",
    "    elif choice=='3':\n",
    "        Tempreature=int(input(\"enter the temp in celsius\"))\n",
    "        kelvin= 273+Tempreature\n",
    "        print(f\"The  temp of {Tempreature} in kelvin is {kelvin}\")\n",
    "    elif choice=='4':\n",
    "        Tempreature=int(input(\"enter the temp in kelvin\"))\n",
    "        celsius= Tempreature-273\n",
    "        print(f\"The  temp of {Tempreature} in celsius is {celsius}\")\n",
    "    elif choice=='5':\n",
    "        t=int(input(\"ENTER THE NO OF OPERATION YOU WANT TO PERFORM\"))\n",
    "        for i in range(t):\n",
    "            temp=float(input(\"ENTER THE TEMP YOU WANT IN CELSIUS\"))\n",
    "            cel= (5/9)*temp-32\n",
    "            kelvin= 273+32\n",
    "            print(\"celsius:\",cel)\n",
    "            print(\"kelvin:\",kelvin)\n",
    "    elif choice=='6':\n",
    "        print(\"END .....\")\n",
    "        break\n",
    "        \n",
    "        \n",
    "        \n",
    "        \n",
    "\n"
   ]
  },
  {
   "cell_type": "markdown",
   "id": "4b445602-a077-4e24-9224-51fe7c92d33c",
   "metadata": {},
   "source": [
    "###### "
   ]
  }
 ],
 "metadata": {
  "kernelspec": {
   "display_name": "Python 3 (ipykernel)",
   "language": "python",
   "name": "python3"
  },
  "language_info": {
   "codemirror_mode": {
    "name": "ipython",
    "version": 3
   },
   "file_extension": ".py",
   "mimetype": "text/x-python",
   "name": "python",
   "nbconvert_exporter": "python",
   "pygments_lexer": "ipython3",
   "version": "3.12.4"
  }
 },
 "nbformat": 4,
 "nbformat_minor": 5
}

{
 "cells": [
  {
   "cell_type": "markdown",
   "id": "64a34a6a-b2ce-4ac8-953c-bf0afc5b4c3b",
   "metadata": {},
   "source": [
    "### WORD FREQUENCY COUNTER TOOLKIT\n"
   ]
  },
  {
   "cell_type": "markdown",
   "id": "82b2cdfa-f3b9-4b04-be03-ca354b66acde",
   "metadata": {},
   "source": [
    "1.Count frequency of words in a string\n",
    "\n",
    "2.Count frequency of words in a file\n",
    "\n",
    "3.Find frequency of a specific word\n",
    "\n",
    "4.Display top N most frequent words\n",
    "\n",
    "5.Save word frequencies to file\n",
    "\n",
    "6.Exit"
   ]
  },
  {
   "cell_type": "code",
   "execution_count": null,
   "id": "cffe972e-3206-48db-a588-228cda3b01cb",
   "metadata": {},
   "outputs": [
    {
     "name": "stdout",
     "output_type": "stream",
     "text": [
      "---- WORD FREQUENCY COUNTER TOOLKIT ----\n",
      "1. Count frequency of words in a string\n",
      "2. Count frequency of words in a file\n",
      "3. Find frequency of a specific word\n",
      "4. Display top N most frequent words\n",
      "5. Save word frequencies to file\n",
      "6. Exit\n"
     ]
    },
    {
     "name": "stdout",
     "output_type": "stream",
     "text": [
      "Enter choice:  1\n",
      "enter the text hfwuofh fhowuhgfd gfudoashfi;l\n"
     ]
    },
    {
     "name": "stdout",
     "output_type": "stream",
     "text": [
      "word frequnecy: \n",
      "hfwuofh: 1\n",
      "fhowuhgfd: 1\n",
      "gfudoashfi;l: 1\n"
     ]
    }
   ],
   "source": [
    "print(\"---- WORD FREQUENCY COUNTER TOOLKIT ----\")\n",
    "print(\"1. Count frequency of words in a string\")\n",
    "print(\"2. Count frequency of words in a file\")\n",
    "print(\"3. Find frequency of a specific word\")\n",
    "print(\"4. Display top N most frequent words\")\n",
    "print(\"5. Save word frequencies to file\")\n",
    "print(\"6. Exit\")\n",
    "\n",
    "while True:\n",
    "    choice = int(input(\"Enter choice: \"))\n",
    "    if choice==6:\n",
    "        print(\"ending\")\n",
    "        break\n",
    "    elif choice==1:\n",
    "        text=input(\"enter the text\")\n",
    "        words=text.lower().split()\n",
    "        freq={}\n",
    "        for i in words:\n",
    "            freq[i]=freq.get(i,0)+1\n",
    "        print(\"word frequnecy: \")\n",
    "        for i, count in freq.items():\n",
    "             print(f\"{i}: {count}\")\n",
    "    elif choice==2: #use pikachu.txt file for testing\n",
    "        filename=input(\"enter the file name\")\n",
    "        try:\n",
    "            with open(filename,\"r\") as f:\n",
    "                text=f.read().lower()\n",
    "                word= text.split()\n",
    "                freq={}\n",
    "                for i in word:\n",
    "                    freq[i]=freq.get(i,0)+1\n",
    "                print(\"word frequency from file\")\n",
    "                for i,count in freq.items():\n",
    "                    print(f\"{i}:{count}\")\n",
    "        except FileNotFoundError:\n",
    "            print(\"File not found\")\n",
    "    elif choice==3:\n",
    "        filename=input(\"enter the name of the file\")\n",
    "        try:\n",
    "            with open(filename,\"r\") as f:\n",
    "                text=f.read().lower()\n",
    "                word=text.split()\n",
    "                freq={}\n",
    "                for i in word:\n",
    "                    freq[i]=freq.get(i,0)+1\n",
    "                find=input(\"enter the word you want to find freq of\")\n",
    "                print(f\"The word {find} comes {freq.get(find,0)} times\")\n",
    "        except FileNotFoundError:\n",
    "            print(\"file not found\")\n",
    "    elif choice==4:\n",
    "        filename=input(\"enter the name of the file\")\n",
    "        try:\n",
    "            with open(filename,\"r\") as f:\n",
    "                text=f.read().lower()\n",
    "                word=text.split()\n",
    "                freq={}\n",
    "                for i in word:\n",
    "                    freq[i]=freq.get(i,0)+1 \n",
    "                most=max(freq,key=freq.get)\n",
    "                print(f\"Most words are in {most} i.e {freq[most]} times\")\n",
    "        except FileNotFoundError:\n",
    "            print(\"File not found\")\n",
    "                    \n",
    "    elif choice==5:\n",
    "        filename=input(\"enter the name of the file\")\n",
    "        try:\n",
    "            with open(filename,\"r\") as f:\n",
    "                text=f.read().lower()\n",
    "                word=text.split()\n",
    "                freq={}\n",
    "                for i in word:\n",
    "                    freq[i]=freq.get(i,0)+1\n",
    "                with open(\"frequency.txt\",\"w\") as f:\n",
    "                    f.write(\"Frequency is as follows\")\n",
    "                    for key,value in freq.items():\n",
    "                        f.write(f\"{key}:{value}\\n\")\n",
    "        except FileNotFoundError:\n",
    "            print(\"File not found\")\n",
    "        "
   ]
  },
  {
   "cell_type": "code",
   "execution_count": null,
   "id": "d49ecc93-7a67-47fe-a688-0e5602616e69",
   "metadata": {},
   "outputs": [],
   "source": []
  }
 ],
 "metadata": {
  "kernelspec": {
   "display_name": "Python 3 (ipykernel)",
   "language": "python",
   "name": "python3"
  },
  "language_info": {
   "codemirror_mode": {
    "name": "ipython",
    "version": 3
   },
   "file_extension": ".py",
   "mimetype": "text/x-python",
   "name": "python",
   "nbconvert_exporter": "python",
   "pygments_lexer": "ipython3",
   "version": "3.12.4"
  }
 },
 "nbformat": 4,
 "nbformat_minor": 5
}

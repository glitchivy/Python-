{
 "cells": [
  {
   "cell_type": "markdown",
   "id": "962d4fe0-ec73-424d-acf3-5663bff738b9",
   "metadata": {},
   "source": [
    "### VOWEL COUNT TOOLKIT"
   ]
  },
  {
   "cell_type": "markdown",
   "id": "1d13346e-3936-4810-a7e5-a72802f45c21",
   "metadata": {},
   "source": [
    "1. Count vowels in a string\n",
    "2. Count vowels in multiple strings\n",
    "3. Find frequency of each vowel (a, e, i, o, u)\n",
    "4. Check if string has more vowels or consonants\n",
    "5. Save vowel count result to file\n",
    "6. Exit\n"
   ]
  },
  {
   "cell_type": "code",
   "execution_count": 10,
   "id": "ee4eff45-c572-49bd-a986-6ad6a2c6af92",
   "metadata": {},
   "outputs": [
    {
     "name": "stdout",
     "output_type": "stream",
     "text": [
      "FEATURES\n",
      "1.Count vowels in a string\n",
      "2.Count vowels in multiple strings\n",
      "3. frequency of each vowel (a, e, i, o, u)\n",
      "4.Check if string has more vowels or consonants\n",
      "5.Save vowel count result to file\n",
      "6.exit\n"
     ]
    },
    {
     "name": "stdin",
     "output_type": "stream",
     "text": [
      "enter the number of the operation you want to perform 5\n",
      "enter the string you want to count vowels with hfauoedfhocidahfoewgfe\n",
      "enter the number of the operation you want to perform 6\n"
     ]
    },
    {
     "name": "stdout",
     "output_type": "stream",
     "text": [
      "emding\n"
     ]
    }
   ],
   "source": [
    "print(\"FEATURES\")\n",
    "print(\"1.Count vowels in a string\")\n",
    "print(\"2.Count vowels in multiple strings\")\n",
    "print(\"3. frequency of each vowel (a, e, i, o, u)\")\n",
    "print(\"4.Check if string has more vowels or consonants\")\n",
    "print(\"5.Save vowel count result to file\")\n",
    "print(\"6.exit\")\n",
    "while True:\n",
    "    choice= int(input(\"enter the number of the operation you want to perform\"))\n",
    "    if choice==1:\n",
    "        count=0\n",
    "        character=input(\"enter the string you want to count vowels with\")\n",
    "        for i in character:\n",
    "            if i in \"aeiouAEIOU\":\n",
    "                count+=1\n",
    "        print(count)\n",
    "    elif choice==6:\n",
    "        print(\"emding\")\n",
    "        break \n",
    "    elif choice==2:\n",
    "        \n",
    "        arr=input(\"enter the vowel and split it with space\").split()\n",
    "        \n",
    "        for k in arr:\n",
    "            count=0\n",
    "            for vowel in k:\n",
    "                if vowel in \"aeiouAEIOU\":\n",
    "                    count+=1 \n",
    "            print(f\"The word {k} have {count} vowels\")\n",
    "    elif choice==3:\n",
    "        word=input(\"enter the word you want to find vowels in\")\n",
    "        dic={\"a\":0,\"e\":0,\"i\":0,\"o\":0,\"u\":0}\n",
    "        for i in word.lower():\n",
    "            if i in dic:\n",
    "                dic[i]+=1\n",
    "        print(\"Frequency of each vowel\")\n",
    "        for keys,value in dic.items():\n",
    "            print(keys,\":\",value)\n",
    "    elif choice==4:\n",
    "        word=input(\"enter the word \")\n",
    "        con=0\n",
    "        vowel=0\n",
    "        for i in word:\n",
    "\n",
    "            if i.isalpha():\n",
    "                if i in \"aeiouAEIOU\":\n",
    "                    vowel+=1\n",
    "                else:\n",
    "                    con+=1 \n",
    "        if vowel>con:\n",
    "            print(\"vowel count is more\")\n",
    "            print(f\"vowel count:{vowel}\")\n",
    "            print(f\"consonant count:{con}\")\n",
    "        elif con>vowel:\n",
    "            print(\"consonant count is more\")\n",
    "            print(f\"vowel count:{vowel}\")\n",
    "            print(f\"consonant count:{con}\")\n",
    "        else:\n",
    "            print(\"equal\")\n",
    "            print(f\"vowel count:{vowel}\")\n",
    "            print(f\"consonant count:{con}\")\n",
    "    elif choice==5:\n",
    "        with open(\"vowel.txt\",\"w\") as f:\n",
    "            count=0\n",
    "            character=input(\"enter the string you want to count vowels with\")\n",
    "            for i in character:\n",
    "                if i in \"aeiouAEIOU\":\n",
    "                    count+=1\n",
    "            f.write(f\"The vowel count is: {count}\")\n",
    "        \n",
    "        \n",
    "        \n",
    "        \n",
    "            \n",
    "            \n"
   ]
  },
  {
   "cell_type": "code",
   "execution_count": null,
   "id": "ad773d17-5522-4a9e-9ec5-be6d40eaa095",
   "metadata": {},
   "outputs": [],
   "source": []
  }
 ],
 "metadata": {
  "kernelspec": {
   "display_name": "Python 3 (ipykernel)",
   "language": "python",
   "name": "python3"
  },
  "language_info": {
   "codemirror_mode": {
    "name": "ipython",
    "version": 3
   },
   "file_extension": ".py",
   "mimetype": "text/x-python",
   "name": "python",
   "nbconvert_exporter": "python",
   "pygments_lexer": "ipython3",
   "version": "3.12.4"
  }
 },
 "nbformat": 4,
 "nbformat_minor": 5
}

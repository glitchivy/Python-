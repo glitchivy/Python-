{
 "cells": [
  {
   "cell_type": "markdown",
   "id": "7527939c-0f9d-4733-8838-bdfbed804ad9",
   "metadata": {},
   "source": [
    "### PRIME NUMBER TOOLKIT"
   ]
  },
  {
   "cell_type": "markdown",
   "id": "6b5d5b14-ee6d-48c1-b697-6eb039d4c579",
   "metadata": {},
   "source": [
    "--- MENU ----\n",
    "\n",
    "Check if a number is Prime\n",
    "\n",
    "Generate all Primes up to N\n",
    "\n",
    "Generate first N Prime numbers\n",
    "\n",
    "Print Primes in a range (A to B)\n",
    "\n",
    "Save Prime numbers to file\n",
    "\n",
    "Exit"
   ]
  },
  {
   "cell_type": "code",
   "execution_count": 16,
   "id": "52510604-54ec-48bc-beee-665a3489c372",
   "metadata": {},
   "outputs": [
    {
     "name": "stdout",
     "output_type": "stream",
     "text": [
      "--FEATURES--\n",
      "1.check if a number is prime\n",
      "2.Generate all numbers upto N prime numbers\n",
      "3.Generate first N prime numbers\n",
      "4. Generate prime numbers from A to B\n",
      "5. save all prime numbers in a file\n",
      "6.Exit\n"
     ]
    },
    {
     "name": "stdin",
     "output_type": "stream",
     "text": [
      "enter the number of the operation you want to perform 5\n",
      "enter the number you want to check if its prime 10\n",
      "enter the number of the operation you want to perform 6\n"
     ]
    },
    {
     "name": "stdout",
     "output_type": "stream",
     "text": [
      "Thank you for your time \n"
     ]
    }
   ],
   "source": [
    "print(\"--FEATURES--\")\n",
    "print(\"1.check if a number is prime\") \n",
    "print(\"2.Generate all numbers upto N prime numbers\")\n",
    "print(\"3.Generate first N prime numbers\")\n",
    "print(\"4. Generate prime numbers from A to B\")\n",
    "print(\"5. save all prime numbers in a file\")\n",
    "print(\"6.Exit\")\n",
    "while True:\n",
    "    choice=int(input(\"enter the number of the operation you want to perform\"))\n",
    "    if choice==6:\n",
    "        print(\"Thank you for your time \")\n",
    "        break\n",
    "    elif choice==1:\n",
    "        count=0\n",
    "        n=int(input(\"enter the number you want to check if its prime\"))\n",
    "        for i in range(2,n):\n",
    "            if n%i==0:\n",
    "                count=count+1\n",
    "        if count>0:\n",
    "            print(\"THE given number is not prime\")\n",
    "        else:\n",
    "            print(\"THE GIVEN NUMBER IS A PRIME NUMBER\")\n",
    "    elif choice==2:\n",
    "        n=int(input(\"enter the number you want to check if its prime\"))\n",
    "        for i in range(2,n):\n",
    "            count=0\n",
    "            for j in range(2,i):\n",
    "                if i%j==0:\n",
    "                    count=count+1\n",
    "                    break\n",
    "            if count==0:\n",
    "                print(i)\n",
    "    \n",
    "    elif choice==3:\n",
    "        n=int(input(\"enter the number till which you want to find the prime number\"))\n",
    "        limit=int(input(\"enter the max no of prime number you want to find for the given numbers\"))\n",
    "        arr=[]\n",
    "        for i in range(2,n):\n",
    "            count=0\n",
    "            for j in range(2,i):\n",
    "                if i%j==0:\n",
    "                    count=count+1\n",
    "                    break\n",
    "            if len(arr)<=limit:\n",
    "                if count==0:\n",
    "                    arr.append(i)\n",
    "        print(arr)\n",
    "    elif choice==4:\n",
    "        n=int(input(\"Select the starting range for the prime number\"))\n",
    "        m=int(input(\"Select the ending range for the prime number\"))\n",
    "        for i in range(n,m):\n",
    "            count=0\n",
    "            for j in range(2,i):\n",
    "                if i%j==0:\n",
    "                    count=count+1\n",
    "                    break\n",
    "           \n",
    "            if count==0:\n",
    "                print(i)\n",
    "    elif choice==5:\n",
    "        n=int(input(\"enter the number you want to check if its prime\"))\n",
    "        with open(\"primeno.txt\",\"w\")as f:\n",
    "            for i in range(2,n):\n",
    "                count=0\n",
    "                for j in range(2,i):\n",
    "                    if i%j==0:\n",
    "                        count=count+1\n",
    "                        break\n",
    "                if count==0:\n",
    "                    f.write(str(i)+\"\\n\")\n",
    "    \n",
    "    \n",
    "                \n",
    "                \n",
    "                    \n",
    "    \n",
    "                \n",
    "        "
   ]
  },
  {
   "cell_type": "code",
   "execution_count": null,
   "id": "479fad15-5468-4a03-8805-b6cbdb8411a1",
   "metadata": {},
   "outputs": [],
   "source": []
  }
 ],
 "metadata": {
  "kernelspec": {
   "display_name": "Python 3 (ipykernel)",
   "language": "python",
   "name": "python3"
  },
  "language_info": {
   "codemirror_mode": {
    "name": "ipython",
    "version": 3
   },
   "file_extension": ".py",
   "mimetype": "text/x-python",
   "name": "python",
   "nbconvert_exporter": "python",
   "pygments_lexer": "ipython3",
   "version": "3.12.4"
  }
 },
 "nbformat": 4,
 "nbformat_minor": 5
}

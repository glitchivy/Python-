{
 "cells": [
  {
   "cell_type": "markdown",
   "id": "9462642a-ec2c-4a0c-aaf5-ec9acc35a15b",
   "metadata": {},
   "source": [
    "### DICE ROLL SIMULATOR"
   ]
  },
  {
   "cell_type": "markdown",
   "id": "19a14c99-545e-4dfa-88d3-3043128012f6",
   "metadata": {},
   "source": [
    "Dice Roll Simulator – Features\n",
    "\n",
    "1.Roll a Dice Once – Simulates rolling a single 6-sided dice and shows the result.\n",
    "\n",
    "2.Roll Dice Multiple Times – Lets you choose how many times to roll the dice and displays all outcomes.\n",
    "\n",
    "3.Roll Multiple Dice at Once – Allows rolling multiple dice in one go (e.g., roll 3 dice simultaneously).\n",
    "\n",
    "4.Show Roll History – Displays all previous rolls from the session.\n",
    "\n",
    "5.Save Roll History to File – Exports the roll history to a text file for later reference.\n",
    "\n",
    "6.Exit – Ends the program."
   ]
  },
  {
   "cell_type": "code",
   "execution_count": null,
   "id": "2e0730da-af46-4bf6-837e-a151a035934f",
   "metadata": {},
   "outputs": [
    {
     "name": "stdout",
     "output_type": "stream",
     "text": [
      "---- DICE ROLL SIMULATOR ----\n",
      "1. Roll a Dice Once\n",
      "2. Roll Dice Multiple Times\n",
      "3. Roll Multiple Dice at Once\n",
      "4. Show Roll History\n",
      "5. Save Roll History to File\n",
      "6. Exit\n"
     ]
    },
    {
     "name": "stdin",
     "output_type": "stream",
     "text": [
      "enter the operation number you want to perform 2\n",
      "enter the number of times you want to roll the dice 6\n"
     ]
    },
    {
     "name": "stdout",
     "output_type": "stream",
     "text": [
      "you rolled 3 in your 1 roll\n",
      "you rolled 6 in your 2 roll\n",
      "you rolled 6 in your 3 roll\n",
      "you rolled 4 in your 4 roll\n",
      "you rolled 6 in your 5 roll\n",
      "you rolled 1 in your 6 roll\n"
     ]
    },
    {
     "name": "stdin",
     "output_type": "stream",
     "text": [
      "enter the operation number you want to perform 5\n",
      "enter the operation number you want to perform 4\n"
     ]
    },
    {
     "name": "stdout",
     "output_type": "stream",
     "text": [
      "roll 1:3\n",
      "roll 2:6\n",
      "roll 3:6\n",
      "roll 4:4\n",
      "roll 5:6\n",
      "roll 6:1\n"
     ]
    }
   ],
   "source": [
    "import random\n",
    "\n",
    "print(\"---- DICE ROLL SIMULATOR ----\")\n",
    "print(\"1. Roll a Dice Once\")\n",
    "print(\"2. Roll Dice Multiple Times\")\n",
    "print(\"3. Roll Multiple Dice at Once\")\n",
    "print(\"4. Show Roll History\")\n",
    "print(\"5. Save Roll History to File\")\n",
    "print(\"6. Exit\")\n",
    "\n",
    "history=[]\n",
    "while True:\n",
    "    choice=int(input(\"enter the operation number you want to perform\"))\n",
    "    if choice==6:\n",
    "        print(\"Thank you for playing\")\n",
    "        break\n",
    "    elif choice==1:\n",
    "        roll= random.randint(1,6)\n",
    "        print(f\"You Rolled:{roll}\")\n",
    "        history.append(roll)\n",
    "    elif choice==2:\n",
    "        n=int(input(\"enter the number of times you want to roll the dice\"))\n",
    "        for i in range(n):\n",
    "            roll=random.randint(1,6)\n",
    "            print(f\"you rolled {roll} in your {i+1} roll\")\n",
    "            history.append(roll)\n",
    "    elif choice==3: #mutilple dice at once\n",
    "        n=int(input(\"enter the number of dices you want to roll\"))\n",
    "        rolled=[]\n",
    "        for i in range(n):\n",
    "            roll=random.randint(1,6)\n",
    "            rolled.append(roll)\n",
    "            history.append(roll)\n",
    "        print(rolled)\n",
    "    elif choice==4:\n",
    "        if not history:\n",
    "            print(\"no rolls yet\")\n",
    "        else:\n",
    "            for i,val in enumerate(history,start=1):\n",
    "                print(f\"roll {i}:{val}\")\n",
    "    elif choice==5:\n",
    "        with open(\"DiceRoll.txt\",\"w\") as f:\n",
    "            f.write(\"Dice Roll History \\n\")\n",
    "            for i,val in enumerate(history,start=1):\n",
    "                f.write(f\"roll {i}:{val}\\n\")\n",
    "                \n",
    "        "
   ]
  },
  {
   "cell_type": "code",
   "execution_count": null,
   "id": "8affa0e8-af70-4962-b33f-c75db7ebd882",
   "metadata": {},
   "outputs": [],
   "source": []
  }
 ],
 "metadata": {
  "kernelspec": {
   "display_name": "Python 3 (ipykernel)",
   "language": "python",
   "name": "python3"
  },
  "language_info": {
   "codemirror_mode": {
    "name": "ipython",
    "version": 3
   },
   "file_extension": ".py",
   "mimetype": "text/x-python",
   "name": "python",
   "nbconvert_exporter": "python",
   "pygments_lexer": "ipython3",
   "version": "3.12.4"
  }
 },
 "nbformat": 4,
 "nbformat_minor": 5
}

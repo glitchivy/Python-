{
 "cells": [
  {
   "cell_type": "markdown",
   "id": "7cd7bbce-6935-4f36-a33f-0b73ae1ce2b2",
   "metadata": {},
   "source": [
    "###  NUMBER GUESSING GAME"
   ]
  },
  {
   "cell_type": "markdown",
   "id": "fc3c49a1-6a8c-4521-aed9-e017cdc788eb",
   "metadata": {},
   "source": [
    "### ----FEATURES----\n",
    "## Multiple Difficulty Levels\n",
    "Easy (1–10)\n",
    "Medium (1–50)\n",
    "Hard (1–100)\n",
    "## Custom Range (set your own limits)\n",
    "## Guess Feedback\n",
    "Informs whether your guess is too high or too low until correct.\n",
    "Guess History\n",
    "Tracks all guesses and number of attempts.\n",
    "## Reset Option\n",
    "Clear past guess history anytime to start fresh.\n",
    "## Exit Option\n",
    "Allows smooth game termination."
   ]
  },
  {
   "cell_type": "code",
   "execution_count": 11,
   "id": "c527b3df-1407-4424-8e67-aaea8982a58c",
   "metadata": {},
   "outputs": [
    {
     "name": "stdout",
     "output_type": "stream",
     "text": [
      "---- NUMBER GUESSING GAME ----\n",
      "1. Play (Easy: 1–10)\n",
      "2. Play (Medium: 1–50)\n",
      "3. Play (Hard: 1–100)\n",
      "4. Play (Custom Range)\n",
      "5. Show Guess History\n",
      "6. Reset Guess History\n",
      "7. Exit\n"
     ]
    },
    {
     "name": "stdin",
     "output_type": "stream",
     "text": [
      "enter the number of the operation you want to perform 1\n",
      "enter a number btw 1 to 10 5\n"
     ]
    },
    {
     "name": "stdout",
     "output_type": "stream",
     "text": [
      "too low try again\n"
     ]
    },
    {
     "name": "stdin",
     "output_type": "stream",
     "text": [
      "enter a number btw 1 to 10 7\n"
     ]
    },
    {
     "name": "stdout",
     "output_type": "stream",
     "text": [
      "too low try again\n"
     ]
    },
    {
     "name": "stdin",
     "output_type": "stream",
     "text": [
      "enter a number btw 1 to 10 9\n"
     ]
    },
    {
     "name": "stdout",
     "output_type": "stream",
     "text": [
      "too low try again\n"
     ]
    },
    {
     "name": "stdin",
     "output_type": "stream",
     "text": [
      "enter a number btw 1 to 10 10\n"
     ]
    },
    {
     "name": "stdout",
     "output_type": "stream",
     "text": [
      "you guessed number 10 right\n"
     ]
    },
    {
     "name": "stdin",
     "output_type": "stream",
     "text": [
      "enter the number of the operation you want to perform 5\n"
     ]
    },
    {
     "name": "stdout",
     "output_type": "stream",
     "text": [
      "Guess 1:3\n"
     ]
    },
    {
     "name": "stdin",
     "output_type": "stream",
     "text": [
      "enter the number of the operation you want to perform 6\n"
     ]
    },
    {
     "name": "stdout",
     "output_type": "stream",
     "text": [
      "data gone\n"
     ]
    },
    {
     "name": "stdin",
     "output_type": "stream",
     "text": [
      "enter the number of the operation you want to perform 5\n"
     ]
    },
    {
     "name": "stdout",
     "output_type": "stream",
     "text": [
      " no history\n"
     ]
    },
    {
     "name": "stdin",
     "output_type": "stream",
     "text": [
      "enter the number of the operation you want to perform 7\n"
     ]
    },
    {
     "name": "stdout",
     "output_type": "stream",
     "text": [
      "Thank you for guessing\n"
     ]
    }
   ],
   "source": [
    "import random\n",
    "\n",
    "print(\"---- NUMBER GUESSING GAME ----\")\n",
    "print(\"1. Play (Easy: 1–10)\")\n",
    "print(\"2. Play (Medium: 1–50)\")\n",
    "print(\"3. Play (Hard: 1–100)\")\n",
    "print(\"4. Play (Custom Range)\")\n",
    "print(\"5. Show Guess History\")\n",
    "print(\"6. Reset Guess History\")\n",
    "print(\"7. Exit\")\n",
    "history=[]\n",
    "while True:\n",
    "    choice=int(input(\"enter the number of the operation you want to perform\"))\n",
    "    guess=0\n",
    "    if choice==7:\n",
    "        print(\"Thank you for guessing\")\n",
    "        break\n",
    "    elif choice==1:\n",
    "        number=random.randint(1,10)\n",
    "        while True:\n",
    "            user=int(input(\"enter a number btw 1 to 10\"))\n",
    "            if number==user:\n",
    "                print(f\"you guessed number {number} right\")\n",
    "                break\n",
    "            elif number>user:\n",
    "                print(\"too low try again\")\n",
    "                guess+=1\n",
    "            else:\n",
    "                print(\"too high try again\")\n",
    "                guess+=1\n",
    "        history.append(guess)\n",
    "    elif choice==2:\n",
    "        number=random.randint(1,50)\n",
    "        while True:\n",
    "            user=int(input(\"enter a number btw 1 to 50\"))\n",
    "            if number==user:\n",
    "                print(f\"you guessed number {number} right\")\n",
    "                break\n",
    "            elif number>user:\n",
    "                print(\"too low try again\")\n",
    "                guess+=1\n",
    "            else:\n",
    "                print(\"too high try again\")\n",
    "                guess+=1\n",
    "        history.append(guess)\n",
    "    elif choice==3:\n",
    "        number=random.randint(1,100)\n",
    "        while True:\n",
    "            user=int(input(\"enter a number btw 1 to100\"))\n",
    "            if number==user:\n",
    "                print(f\"you guessed number {number} right\")\n",
    "                break\n",
    "            elif number>user:\n",
    "                print(\"too low try again\")\n",
    "                guess+=1\n",
    "            else:\n",
    "                print(\"too high try again\")\n",
    "                guess+=1\n",
    "        history.append(guess)\n",
    "    elif choice==4:\n",
    "        start,end=map(int,input(\"enter the starting and ending range you want to play\").split())\n",
    "        number=random.randint(start,end)\n",
    "        while True:\n",
    "            user=int(input(f\"enter a number {start}  to {end}\"))\n",
    "            if number==user:\n",
    "                print(f\"you guessed number {number} right\")\n",
    "                break\n",
    "            elif number>user:\n",
    "                print(\"too low try again\")\n",
    "                guess+=1\n",
    "            else:\n",
    "                print(\"too high try again\")\n",
    "                guess+=1\n",
    "        history.append(guess)\n",
    "    elif choice==5:\n",
    "        if not history:\n",
    "            print(\" no history\")\n",
    "        else:\n",
    "            for i,val in enumerate(history,start=1):\n",
    "                print(f\"Guess {i}:{val}\")\n",
    "    elif choice==6:\n",
    "        history.clear()\n",
    "        print(\"data gone\")\n",
    "            \n",
    "            "
   ]
  },
  {
   "cell_type": "code",
   "execution_count": null,
   "id": "0907336e-4243-407f-859a-e9481705ff04",
   "metadata": {},
   "outputs": [],
   "source": []
  }
 ],
 "metadata": {
  "kernelspec": {
   "display_name": "Python 3 (ipykernel)",
   "language": "python",
   "name": "python3"
  },
  "language_info": {
   "codemirror_mode": {
    "name": "ipython",
    "version": 3
   },
   "file_extension": ".py",
   "mimetype": "text/x-python",
   "name": "python",
   "nbconvert_exporter": "python",
   "pygments_lexer": "ipython3",
   "version": "3.12.4"
  }
 },
 "nbformat": 4,
 "nbformat_minor": 5
}

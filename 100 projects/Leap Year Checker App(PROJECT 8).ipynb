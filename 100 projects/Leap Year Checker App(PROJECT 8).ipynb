{
 "cells": [
  {
   "cell_type": "markdown",
   "id": "511221e0-0cfb-48d2-8e1b-a1313684fc0f",
   "metadata": {},
   "source": [
    "### Leap Year Checker App"
   ]
  },
  {
   "cell_type": "code",
   "execution_count": 11,
   "id": "71635cea-2dc1-402a-beed-9c4786c5d4cc",
   "metadata": {},
   "outputs": [
    {
     "name": "stdout",
     "output_type": "stream",
     "text": [
      "Leap Year Checker App\n",
      "---FEATURES---\n",
      "1.Check if a single year is leap year\n",
      "2.List all leap years in a range\n",
      "3.Count leap years in a range\n",
      "4.Find next nearest leap year\n",
      "5.EXIT\n"
     ]
    },
    {
     "name": "stdin",
     "output_type": "stream",
     "text": [
      "enter the number of the operation you want to perform 4\n",
      "enter the year 83839\n"
     ]
    },
    {
     "name": "stdout",
     "output_type": "stream",
     "text": [
      "3\n"
     ]
    },
    {
     "name": "stdin",
     "output_type": "stream",
     "text": [
      "enter the number of the operation you want to perform exit\n",
      "enter the number of the operation you want to perform 6\n",
      "enter the number of the operation you want to perform 5\n"
     ]
    },
    {
     "name": "stdout",
     "output_type": "stream",
     "text": [
      "endingg..............\n"
     ]
    }
   ],
   "source": [
    "print(\"Leap Year Checker App\")\n",
    "print(\"---FEATURES---\")\n",
    "print(\"1.Check if a single year is leap year\")\n",
    "print(\"2.List all leap years in a range\")\n",
    "print(\"3.Count leap years in a range\")\n",
    "print(\"4.Find next nearest leap year\")\n",
    "print(\"5.EXIT\")\n",
    "while True:\n",
    "    choice=input(\"enter the number of the operation you want to perform\")\n",
    "    if choice=='1':\n",
    "        year=int(input(\"enter the year\"))\n",
    "        if year%4==0:\n",
    "            print(\"THE YEAR IS LEAP YEAR\")\n",
    "        elif year%100==0:\n",
    "            print(\"THE YEAR IS NOT A LEAP YEAR\")\n",
    "        elif year%400==0:\n",
    "            print(\"THE YEAR IS A LEAP YEAR\")\n",
    "        else:\n",
    "            print(\"THE YEAR IS NOT A LEAP YEAR\")\n",
    "    elif choice=='2':\n",
    "        array=[]\n",
    "        year=list(map(int,input(\"enter the list of years\").split()))\n",
    "        for i in year:\n",
    "            if i%4==0:\n",
    "                array.append(i)\n",
    "            elif i%100==0:\n",
    "                continue \n",
    "            \n",
    "            elif i%400==0:\n",
    "                array.append(i)\n",
    "            else:\n",
    "                continue \n",
    "        print(array)\n",
    "    elif choice=='3':\n",
    "        array=[]\n",
    "        year=list(map(int,input(\"enter the list of years\").split()))\n",
    "        count=0\n",
    "        for i in year:\n",
    "            if i%4==0:\n",
    "                array.append(i)\n",
    "                count=count+1\n",
    "            elif i%100==0:\n",
    "                continue \n",
    "            \n",
    "            elif i%400==0:\n",
    "                array.append(i)\n",
    "                count=count+1\n",
    "            else:\n",
    "                continue \n",
    "        print(array)\n",
    "        print(count)\n",
    "    elif choice=='4':\n",
    "        year=int(input(\"enter the year\"))\n",
    "        if year%4==0:\n",
    "            print(0)\n",
    "        elif year%100==0:\n",
    "            print(year%4)\n",
    "        elif year%400==0:\n",
    "            print(0)\n",
    "        else:\n",
    "            print(year%4)\n",
    "        \n",
    "    elif choice=='5':\n",
    "        print(\"endingg..............\")\n",
    "        break\n",
    "        \n"
   ]
  },
  {
   "cell_type": "code",
   "execution_count": null,
   "id": "1e0981c3-93db-4839-9e86-355da7a526d3",
   "metadata": {},
   "outputs": [],
   "source": []
  }
 ],
 "metadata": {
  "kernelspec": {
   "display_name": "Python 3 (ipykernel)",
   "language": "python",
   "name": "python3"
  },
  "language_info": {
   "codemirror_mode": {
    "name": "ipython",
    "version": 3
   },
   "file_extension": ".py",
   "mimetype": "text/x-python",
   "name": "python",
   "nbconvert_exporter": "python",
   "pygments_lexer": "ipython3",
   "version": "3.12.4"
  }
 },
 "nbformat": 4,
 "nbformat_minor": 5
}

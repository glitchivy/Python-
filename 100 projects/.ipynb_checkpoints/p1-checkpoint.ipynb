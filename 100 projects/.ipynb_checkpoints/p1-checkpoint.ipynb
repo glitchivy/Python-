{
 "cells": [
  {
   "cell_type": "markdown",
   "id": "5720e20c-8459-4612-b1c2-b8fc18889453",
   "metadata": {},
   "source": [
    "### Hello World program"
   ]
  },
  {
   "cell_type": "code",
   "execution_count": 1,
   "id": "dccd5644-2e8a-4d71-8ecc-26561f4a299a",
   "metadata": {},
   "outputs": [
    {
     "name": "stdin",
     "output_type": "stream",
     "text": [
      "enter your name  tanisha\n"
     ]
    },
    {
     "name": "stdout",
     "output_type": "stream",
     "text": [
      "hello tanisha\n"
     ]
    }
   ],
   "source": [
    "name=input(\"enter your name \")\n",
    "print(f\"hello {name}\")"
   ]
  },
  {
   "cell_type": "code",
   "execution_count": null,
   "id": "2579e94d-6029-478d-8fd9-ed81f9369010",
   "metadata": {},
   "outputs": [],
   "source": []
  }
 ],
 "metadata": {
  "kernelspec": {
   "display_name": "Python 3 (ipykernel)",
   "language": "python",
   "name": "python3"
  },
  "language_info": {
   "codemirror_mode": {
    "name": "ipython",
    "version": 3
   },
   "file_extension": ".py",
   "mimetype": "text/x-python",
   "name": "python",
   "nbconvert_exporter": "python",
   "pygments_lexer": "ipython3",
   "version": "3.12.4"
  }
 },
 "nbformat": 4,
 "nbformat_minor": 5
}

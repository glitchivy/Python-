{
 "cells": [
  {
   "cell_type": "code",
   "execution_count": null,
   "id": "fd476648-3163-4127-9754-633fd9717ec8",
   "metadata": {},
   "outputs": [
    {
     "name": "stdout",
     "output_type": "stream",
     "text": [
      "----FEATURES----\n",
      "Factorial App\n",
      "1.Find factorial of a single number\n",
      "2.Print factorials in a range\n",
      "3. factorial step-by-step\n",
      "4. nearest number whose factorial matches input (reverse factorial)\n",
      "5. Show how many digits factorial has\n",
      "6.Exit\n"
     ]
    },
    {
     "name": "stdin",
     "output_type": "stream",
     "text": [
      "Enter the operation you want to perform 5\n",
      "enter the number you want to do factorial of 4\n"
     ]
    },
    {
     "name": "stdout",
     "output_type": "stream",
     "text": [
      "The digits in 4! is:2\n"
     ]
    }
   ],
   "source": [
    "print(\"----FEATURES----\")\n",
    "print(\"Factorial App\")\n",
    "print(\"1.Find factorial of a single number\")\n",
    "print(\"2.Print factorials in a range\")\n",
    "print(\"3. factorial step-by-step\")\n",
    "print(\"4. nearest number whose factorial matches input (reverse factorial)\")\n",
    "print(\"5. Show how many digits factorial has\")\n",
    "print(\"6.Exit\")\n",
    "while True:\n",
    "    choice=int(input(\"Enter the operation you want to perform\"))\n",
    "    if choice==6:\n",
    "        print(\"thank you ending........\")\n",
    "        break\n",
    "    elif choice==1:\n",
    "        fact=1\n",
    "        n=int(input(\"enter the number you want to do factorial of\"))\n",
    "        for i in range(1,n+1):\n",
    "            fact=fact*i \n",
    "        print(fact)\n",
    "    elif choice==2:\n",
    "        fact=1\n",
    "        n=int(input(\"enter the number you want to do factorial of\"))\n",
    "        for i in range(1,n+1):\n",
    "            fact=fact*i \n",
    "            print(fact, end=\", \")\n",
    "        \n",
    "    elif choice==3:\n",
    "        fact=1\n",
    "        n=int(input(\"enter the number you want to do factorial of\"))\n",
    "        for i in range(1,n+1):\n",
    "            fact=fact*i \n",
    "            print(f\"{i}!={fact}\\n\")\n",
    "    elif choice==4:\n",
    "        fact=1\n",
    "        n=int(input(\"enter the number you want to do factorial of\"))\n",
    "        for i in range(1,n+1):\n",
    "            fact=fact*i \n",
    "        if fact==n:\n",
    "            print(f\"{i}!={fact}\")\n",
    "        else:\n",
    "            prev=fact//i \n",
    "            if abs(n-prev)<=abs(n-fact):\n",
    "                print(f\"Nearest factorial: {i-1}! = {prev}\")\n",
    "            else:\n",
    "                print(f\"Nearest factorial: {i}! = {fact}\")\n",
    "    elif choice==5:\n",
    "        fact=1\n",
    "        n=int(input(\"enter the number you want to do factorial of\"))\n",
    "        for i in range(1,n+1):\n",
    "            fact=fact*i \n",
    "        length=len(str(fact))\n",
    "        print(f\"The digits in {n}! is:{length}\")\n",
    "        \n",
    "            \n",
    "        \n",
    "        \n",
    "            \n",
    "            \n",
    "            \n",
    "    \n",
    "\n",
    "    \n",
    "\n"
   ]
  },
  {
   "cell_type": "code",
   "execution_count": null,
   "id": "426ff167-43a9-45b9-8a55-23287223becf",
   "metadata": {},
   "outputs": [],
   "source": []
  }
 ],
 "metadata": {
  "kernelspec": {
   "display_name": "Python 3 (ipykernel)",
   "language": "python",
   "name": "python3"
  },
  "language_info": {
   "codemirror_mode": {
    "name": "ipython",
    "version": 3
   },
   "file_extension": ".py",
   "mimetype": "text/x-python",
   "name": "python",
   "nbconvert_exporter": "python",
   "pygments_lexer": "ipython3",
   "version": "3.12.4"
  }
 },
 "nbformat": 4,
 "nbformat_minor": 5
}

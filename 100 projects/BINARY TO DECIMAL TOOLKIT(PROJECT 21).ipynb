{
 "cells": [
  {
   "cell_type": "markdown",
   "id": "d84eb3d5-697a-45b5-b416-0cadce684e39",
   "metadata": {},
   "source": [
    "### BINARY TO DECIMAL TOOLKIT"
   ]
  },
  {
   "cell_type": "markdown",
   "id": "0c65f188-61de-477d-bbaf-280a5aeca037",
   "metadata": {},
   "source": [
    "Features of Binary to Decimal Toolkit\n",
    "\n",
    "1.Convert Binary to Decimal – Enter a binary number and instantly get its decimal value.\n",
    "\n",
    "2.Batch Conversion – Convert multiple binary numbers to decimals in one go.\n",
    "\n",
    "3.Binary Range Conversion – Enter a start and end binary number, and convert the entire range to decimals.\n",
    "\n",
    "4.Validity Check – Verify if the given number is a valid binary before converting.\n",
    "\n",
    "5.History Tracking – Keep a record of all conversions made during the session.\n",
    "\n",
    "6.Save to File – Export all conversions to a text file for later use.\n",
    "\n",
    "7.Exit Anytime – Simple option to quit the program."
   ]
  },
  {
   "cell_type": "code",
   "execution_count": 13,
   "id": "4102ae9e-1f59-41ee-b302-77dae36306c0",
   "metadata": {},
   "outputs": [
    {
     "name": "stdout",
     "output_type": "stream",
     "text": [
      "\n",
      "--- BINARY TO DECIMAL TOOLKIT ----\n",
      "1. Convert Binary to Decimal\n",
      "2. Convert Multiple Binary Numbers\n",
      "3. Convert Range of Binary Numbers\n",
      "4. Check Valid Binary Number\n",
      "5. Show Conversion History\n",
      "6. Save History to File\n",
      "7. Exit\n"
     ]
    },
    {
     "name": "stdin",
     "output_type": "stream",
     "text": [
      "Enter the number of the operation you want to perform 1\n",
      "enter the number in binary 1011\n"
     ]
    },
    {
     "name": "stdout",
     "output_type": "stream",
     "text": [
      "The decimal for binary value 1011 is 11\n"
     ]
    },
    {
     "name": "stdin",
     "output_type": "stream",
     "text": [
      "Enter the number of the operation you want to perform 2\n",
      "Enter binary numbers separated by spaces:  1011 1111 111101\n"
     ]
    },
    {
     "name": "stdout",
     "output_type": "stream",
     "text": [
      "Binary 1011 to Decimal 11\n",
      "Binary 1111 to Decimal 15\n",
      "Binary 111101 to Decimal 61\n"
     ]
    },
    {
     "name": "stdin",
     "output_type": "stream",
     "text": [
      "Enter the number of the operation you want to perform 3\n",
      "enter the staring range and end range of decimal number 20 40\n"
     ]
    },
    {
     "name": "stdout",
     "output_type": "stream",
     "text": [
      "The decimal for binary value 10100 is 20\n",
      "The decimal for binary value 10101 is 21\n",
      "The decimal for binary value 10110 is 22\n",
      "The decimal for binary value 10111 is 23\n",
      "The decimal for binary value 11000 is 24\n",
      "The decimal for binary value 11001 is 25\n",
      "The decimal for binary value 11010 is 26\n",
      "The decimal for binary value 11011 is 27\n",
      "The decimal for binary value 11100 is 28\n",
      "The decimal for binary value 11101 is 29\n",
      "The decimal for binary value 11110 is 30\n",
      "The decimal for binary value 11111 is 31\n",
      "The decimal for binary value 100000 is 32\n",
      "The decimal for binary value 100001 is 33\n",
      "The decimal for binary value 100010 is 34\n",
      "The decimal for binary value 100011 is 35\n",
      "The decimal for binary value 100100 is 36\n",
      "The decimal for binary value 100101 is 37\n",
      "The decimal for binary value 100110 is 38\n",
      "The decimal for binary value 100111 is 39\n",
      "The decimal for binary value 101000 is 40\n"
     ]
    },
    {
     "name": "stdin",
     "output_type": "stream",
     "text": [
      "Enter the number of the operation you want to perform 4\n",
      "enter a binary number 1011\n"
     ]
    },
    {
     "name": "stdout",
     "output_type": "stream",
     "text": [
      " the given number 1011 is a binary number\n"
     ]
    },
    {
     "name": "stdin",
     "output_type": "stream",
     "text": [
      "Enter the number of the operation you want to perform 5\n"
     ]
    },
    {
     "name": "stdout",
     "output_type": "stream",
     "text": [
      "The decimal for binary value 1011 is 11\n",
      "Binary 1011 to Decimal 11\n",
      "Binary 1111 to Decimal 15\n",
      "Binary 111101 to Decimal 61\n",
      "The decimal for binary value 10100 is 20\n",
      "The decimal for binary value 10101 is 21\n",
      "The decimal for binary value 10110 is 22\n",
      "The decimal for binary value 10111 is 23\n",
      "The decimal for binary value 11000 is 24\n",
      "The decimal for binary value 11001 is 25\n",
      "The decimal for binary value 11010 is 26\n",
      "The decimal for binary value 11011 is 27\n",
      "The decimal for binary value 11100 is 28\n",
      "The decimal for binary value 11101 is 29\n",
      "The decimal for binary value 11110 is 30\n",
      "The decimal for binary value 11111 is 31\n",
      "The decimal for binary value 100000 is 32\n",
      "The decimal for binary value 100001 is 33\n",
      "The decimal for binary value 100010 is 34\n",
      "The decimal for binary value 100011 is 35\n",
      "The decimal for binary value 100100 is 36\n",
      "The decimal for binary value 100101 is 37\n",
      "The decimal for binary value 100110 is 38\n",
      "The decimal for binary value 100111 is 39\n",
      "The decimal for binary value 101000 is 40\n"
     ]
    },
    {
     "name": "stdin",
     "output_type": "stream",
     "text": [
      "Enter the number of the operation you want to perform 6\n"
     ]
    },
    {
     "name": "stdout",
     "output_type": "stream",
     "text": [
      "History saved\n"
     ]
    },
    {
     "name": "stdin",
     "output_type": "stream",
     "text": [
      "Enter the number of the operation you want to perform 7\n"
     ]
    },
    {
     "name": "stdout",
     "output_type": "stream",
     "text": [
      "Thank you \n"
     ]
    }
   ],
   "source": [
    "print(\"\\n--- BINARY TO DECIMAL TOOLKIT ----\")\n",
    "print(\"1. Convert Binary to Decimal\")\n",
    "print(\"2. Convert Multiple Binary Numbers\")\n",
    "print(\"3. Convert Range of Binary Numbers\")\n",
    "print(\"4. Check Valid Binary Number\")\n",
    "print(\"5. Show Conversion History\")\n",
    "print(\"6. Save History to File\")\n",
    "print(\"7. Exit\")\n",
    "\n",
    "history = []\n",
    "while True:\n",
    "    power=0\n",
    "    decimal=0\n",
    "    choice=int(input(\"Enter the number of the operation you want to perform\"))\n",
    "    if choice==7:\n",
    "        print(\"Thank you \")\n",
    "        break\n",
    "    elif choice==1:\n",
    "        number=input(\"enter the number in binary\")\n",
    "        for i in number[::-1]:\n",
    "            decimal+= int(i)*(2**power)\n",
    "            power+=1\n",
    "        result=f\"The decimal for binary value {number} is {decimal}\"\n",
    "        print(result)\n",
    "        history.append(result)\n",
    "    elif choice==3:\n",
    "        start,end=map(int,input(\"enter the staring range and end range of decimal number\").split())\n",
    "        for j in range(start,end+1):\n",
    "            binary=\"\"\n",
    "            n=j\n",
    "            while n>0:\n",
    "                if n==0:\n",
    "                    binary=\"\"\n",
    "                else:\n",
    "                    binary=str(n%2)+binary\n",
    "                    n//=2\n",
    "            decimal=0\n",
    "            power=0\n",
    "            for i in binary[::-1]:\n",
    "                decimal+= int(i)*(2**power)\n",
    "                power+=1\n",
    "            result=f\"The decimal for binary value {binary} is {decimal}\" \n",
    "            print(result)\n",
    "            history.append(result)\n",
    "    elif choice==2:\n",
    "        nums = input(\"Enter binary numbers separated by spaces: \").split()\n",
    "        for n in nums:\n",
    "            if all(i in \"01\" for i in n):\n",
    "                decimal = 0\n",
    "                power = 0\n",
    "                for i in n[::-1]:\n",
    "                    decimal += int(i) * (2 ** power)\n",
    "                    power += 1\n",
    "                result = f\"Binary {n} to Decimal {decimal}\"\n",
    "                print(result)\n",
    "                history.append(result)\n",
    "            else:\n",
    "                print(f\"{n} is not valid\")\n",
    "    elif choice==4:\n",
    "        binary=input(\"enter a binary number\")\n",
    "        bin=True \n",
    "        for i in binary[::-1]:\n",
    "            if i not in \"01\":\n",
    "                bin=False\n",
    "                break\n",
    "        if bin:\n",
    "            print(f\" the given number {binary} is a binary number\")\n",
    "        else:\n",
    "            print(f\" the given number {binary} is not a binary number\")\n",
    "        \n",
    "    elif choice==5:\n",
    "        for i in history:\n",
    "            print(i)\n",
    "    elif choice==6:\n",
    "        with open(\"decimal.txt\",\"w\") as f:\n",
    "            for i in history:\n",
    "                f.write(i+\"\\n\")\n",
    "        print(\"History saved\")\n",
    "        "
   ]
  },
  {
   "cell_type": "code",
   "execution_count": null,
   "id": "614fc017-ab7d-4324-9798-74d321d4668d",
   "metadata": {},
   "outputs": [],
   "source": []
  }
 ],
 "metadata": {
  "kernelspec": {
   "display_name": "Python 3 (ipykernel)",
   "language": "python",
   "name": "python3"
  },
  "language_info": {
   "codemirror_mode": {
    "name": "ipython",
    "version": 3
   },
   "file_extension": ".py",
   "mimetype": "text/x-python",
   "name": "python",
   "nbconvert_exporter": "python",
   "pygments_lexer": "ipython3",
   "version": "3.12.4"
  }
 },
 "nbformat": 4,
 "nbformat_minor": 5
}

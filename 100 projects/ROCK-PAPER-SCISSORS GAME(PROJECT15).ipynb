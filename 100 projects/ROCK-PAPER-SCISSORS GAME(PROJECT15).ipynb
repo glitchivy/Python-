{
 "cells": [
  {
   "cell_type": "markdown",
   "id": "24ba1e42-2d42-43b9-9f02-33e42e8e6902",
   "metadata": {},
   "source": [
    "###  ROCK-PAPER-SCISSORS GAME"
   ]
  },
  {
   "cell_type": "markdown",
   "id": "c138664f-1e68-4aa8-9610-fbe265da276c",
   "metadata": {},
   "source": [
    "Breakdown of Options:\n",
    "\n",
    "1.Play against Computer → You enter Rock/Paper/Scissors, computer randomly picks one, result is shown.\n",
    "\n",
    "2.Play with a Friend → Two players enter their choices secretly, result is displayed.\n",
    "\n",
    "3.Play Best of N Rounds → You set N (like 5 rounds), whoever wins more rounds becomes the champion.\n",
    "\n",
    "4.Show Scoreboard → Displays total wins/losses/draws so far.\n",
    "\n",
    "5.Reset Scoreboard → Clears all scores, starts fresh.\n",
    "\n",
    "6.Exit → Ends the game."
   ]
  },
  {
   "cell_type": "code",
   "execution_count": 12,
   "id": "f7f443ef-4e85-4e33-a9d5-cf5239c89557",
   "metadata": {},
   "outputs": [
    {
     "name": "stdout",
     "output_type": "stream",
     "text": [
      "---- ROCK-PAPER-SCISSORS GAME ----\n",
      "1. Play against Computer\n",
      "2. Play with a Friend\n",
      "3. Play Best of N Rounds\n",
      "4. Show Scoreboard\n",
      "5. Reset Scoreboard\n",
      "6. Exit\n"
     ]
    },
    {
     "name": "stdout",
     "output_type": "stream",
     "text": [
      "enter the choice 5\n"
     ]
    },
    {
     "name": "stdout",
     "output_type": "stream",
     "text": [
      "Scoreboard reset successfully \n"
     ]
    },
    {
     "name": "stdout",
     "output_type": "stream",
     "text": [
      "enter the choice 6\n"
     ]
    },
    {
     "name": "stdout",
     "output_type": "stream",
     "text": [
      "Thankyou for playing\n"
     ]
    }
   ],
   "source": [
    "import random\n",
    "\n",
    "print(\"---- ROCK-PAPER-SCISSORS GAME ----\")\n",
    "print(\"1. Play against Computer\")\n",
    "print(\"2. Play with a Friend\")\n",
    "print(\"3. Play Best of N Rounds\")\n",
    "print(\"4. Show Scoreboard\")\n",
    "print(\"5. Reset Scoreboard\")\n",
    "print(\"6. Exit\")\n",
    "\n",
    "scoreboard = {\"Player1\": 0, \"Player2\": 0, \"Computer\": 0, \"Draws\": 0}\n",
    "choices = [\"rock\", \"paper\", \"scissors\"]\n",
    "while True:\n",
    "    choice=int(input(\"enter the choice\"))\n",
    "    if choice==6:\n",
    "        print(\"Thankyou for playing\")\n",
    "        break\n",
    "    elif choice==1:\n",
    "        play=input(\"choose Rock,Paper,Scissors\").lower()\n",
    "        computer= random.choice(choices)\n",
    "        print(f\"computer choosed:{computer}\")\n",
    "        if play==computer:\n",
    "            print(\"Draws\")\n",
    "            scoreboard[\"Draws\"]+=1\n",
    "        elif (play==\"rock\" and computer==\"scissors\")or (play==\"paper\" and computer==\"rock\") or (play==\"scissors\" and computer==\"paper\"):\n",
    "            print(\"Player wins\")\n",
    "            scoreboard[\"Player1\"]+=1 \n",
    "        else:\n",
    "            print(\"Computer wins\")\n",
    "            scoreboard[\"Computer\"]+=1\n",
    "    elif choice==2:\n",
    "        play1=input(\"choose Rock,Paper,Scissors as player 1\").lower()\n",
    "        play2=input(\"choose Rock,Paper,Scissors as player 2\").lower()\n",
    "        \n",
    "        if play1==play2:\n",
    "            print(\"Draws\")\n",
    "            scoreboard[\"Draws\"]+=1\n",
    "        elif (play1==\"rock\" and play2==\"scissors\")or (play1==\"paper\" and play2==\"rock\") or (play1==\"scissors\" and play2==\"paper\"):\n",
    "            print(\"Player 1 wins\")\n",
    "            scoreboard[\"Player1\"]+=1 \n",
    "        else:\n",
    "            print(\"Player 2 wins\")\n",
    "            scoreboard[\"Player2\"]+=1 \n",
    "    elif choice==3:\n",
    "        n=int(input(\"enter the number of rounds you want to play\"))\n",
    "        p1win=0\n",
    "       \n",
    "        compwin=0\n",
    "        for i in range(n):\n",
    "            play=input(\"choose Rock,Paper,Scissors\").lower()\n",
    "            computer= random.choice(choices)\n",
    "            print(f\"computer choosed:{computer}\")\n",
    "            if play==computer:\n",
    "                print(\"Draws\")\n",
    "                scoreboard[\"Draws\"]+=1\n",
    "            elif (play==\"rock\" and computer==\"scissors\")or (play==\"paper\" and computer==\"rock\") or (play==\"scissors\" and computer==\"paper\"):\n",
    "                print(\"Player wins\")\n",
    "                scoreboard[\"Player1\"]+=1\n",
    "                p1win+=1\n",
    "            else:\n",
    "                print(\"Computer wins\")\n",
    "                scoreboard[\"Computer\"]+=1\n",
    "                compwin+=1\n",
    "        print(\"overall wins\")\n",
    "        if p1win>compwin:\n",
    "            print(\"player \")\n",
    "        elif p1win==compwin:\n",
    "            print(\"draw\")\n",
    "        else:\n",
    "            print(\"computer \")\n",
    "    elif choice==4:\n",
    "        print(\"--SCORE TIME--\")\n",
    "        for key,value in scoreboard.items():\n",
    "            print(f\"{key}:{value}\")\n",
    "    elif choice==5:\n",
    "        for key in scoreboard.keys():\n",
    "            scoreboard[key] = 0\n",
    "        print(\"Scoreboard reset successfully \")\n",
    "            \n",
    "            "
   ]
  },
  {
   "cell_type": "code",
   "execution_count": null,
   "id": "fe367843-c870-4a3a-a9b4-7b29543dba9b",
   "metadata": {},
   "outputs": [],
   "source": []
  }
 ],
 "metadata": {
  "kernelspec": {
   "display_name": "Python 3 (ipykernel)",
   "language": "python",
   "name": "python3"
  },
  "language_info": {
   "codemirror_mode": {
    "name": "ipython",
    "version": 3
   },
   "file_extension": ".py",
   "mimetype": "text/x-python",
   "name": "python",
   "nbconvert_exporter": "python",
   "pygments_lexer": "ipython3",
   "version": "3.12.4"
  }
 },
 "nbformat": 4,
 "nbformat_minor": 5
}

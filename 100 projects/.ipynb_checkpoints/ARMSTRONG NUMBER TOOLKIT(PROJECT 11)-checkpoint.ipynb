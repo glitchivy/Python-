{
 "cells": [
  {
   "cell_type": "markdown",
   "id": "488921dc-18d0-4f90-a913-3443296ebb46",
   "metadata": {},
   "source": [
    "### ARMSTRONG NUMBER TOOLKIT"
   ]
  },
  {
   "cell_type": "markdown",
   "id": "6aee6013-f724-46f6-afd4-c8cfd79f61ff",
   "metadata": {},
   "source": [
    "1. Check if a number is Armstrong\n",
    "2. Generate all Armstrong numbers up to N\n",
    "3. Count Armstrong numbers in a range\n",
    "4. Save Armstrong numbers to file\n",
    "5. Exit"
   ]
  },
  {
   "cell_type": "code",
   "execution_count": 9,
   "id": "0fe7372b-4938-42a5-b447-c783546dd502",
   "metadata": {},
   "outputs": [
    {
     "name": "stdout",
     "output_type": "stream",
     "text": [
      "Features\n",
      "1.Check if a number is Armstrong\n",
      "2.Generate all Armstrong numbers up to N\n",
      "3.Count Armstrong numbers in a range\n",
      "4.Save Armstrong numbers to file\n",
      "5.EXIT\n"
     ]
    },
    {
     "name": "stdin",
     "output_type": "stream",
     "text": [
      "Enter the operation you want to perform 4\n",
      "enter the  number you want arm strong number till 123\n",
      "Enter the operation you want to perform 5\n"
     ]
    },
    {
     "name": "stdout",
     "output_type": "stream",
     "text": [
      "end\n"
     ]
    }
   ],
   "source": [
    "print(\"Features\")\n",
    "print(\"1.Check if a number is Armstrong\")\n",
    "print(\"2.Generate all Armstrong numbers up to N\")\n",
    "print(\"3.Count Armstrong numbers in a range\")\n",
    "print(\"4.Save Armstrong numbers to file\")\n",
    "print(\"5.EXIT\")\n",
    "import math\n",
    "while True:\n",
    "    choice=int(input(\"Enter the operation you want to perform\"))\n",
    "    if choice==5:\n",
    "        print(\"end\")\n",
    "        break\n",
    "    elif choice==1:\n",
    "        n=int(input(\"Enter the number you want to check arm strong  with\"))\n",
    "        digit=len(str(n))\n",
    "        temp=n \n",
    "        sum=0\n",
    "        while temp>0:\n",
    "            val=temp%10\n",
    "            sum+= val**digit\n",
    "            temp=temp//10\n",
    "        if sum==n:\n",
    "            print(\"the number is a arm strong number\")\n",
    "        else:\n",
    "            print(\"not a arm stroong number\")\n",
    "    elif choice==2:  #.Generate all Armstrong numbers up to N\n",
    "        n=int(input(\"enter the  number you want arm strong number till\"))\n",
    "        for i in range(1,n+1):\n",
    "            digit=len(str(i))\n",
    "            sum=0 \n",
    "            temp=i \n",
    "            while temp>0:\n",
    "                value=temp%10\n",
    "                sum+=value**digit\n",
    "                temp=temp//10 \n",
    "            if sum==i:\n",
    "                print(i)\n",
    "    elif choice==3: #Count Armstrong numbers in a range\n",
    "        n=int(input(\"Enter the range of a number till which you want to count arm strong number\"))\n",
    "        arr=[]\n",
    "        count=0\n",
    "        for i in range(1,n+1):\n",
    "            digit=len(str(i))\n",
    "            sum=0\n",
    "            temp=i\n",
    "            \n",
    "            while temp>0:\n",
    "                val=temp%10\n",
    "                sum+=val**digit\n",
    "                temp=temp//10 \n",
    "            if sum==i:\n",
    "                count+=1\n",
    "                arr.append(i)\n",
    "        print(count)\n",
    "        print(f\"THE ARRAY VERSION IS:{arr} \")\n",
    "    elif choice==4:\n",
    "        n=int(input(\"enter the  number you want arm strong number till\"))\n",
    "        with open(\"armstrong.txt\",\"w\")as f:\n",
    "            for i in range(1,n+1):\n",
    "                digit=len(str(i))\n",
    "                sum=0\n",
    "                temp=i \n",
    "                while temp>0:\n",
    "                    value=temp%10\n",
    "                    sum+=value**digit\n",
    "                    temp=temp//10\n",
    "                if sum==i:\n",
    "                    f.write(str(i)+\" is an arm strong number \\n\")\n",
    "        \n",
    "            \n",
    "        \n",
    "        \n",
    "        \n",
    "        \n"
   ]
  },
  {
   "cell_type": "code",
   "execution_count": null,
   "id": "a2532bd1-499a-4757-8a18-62b73b2d3688",
   "metadata": {},
   "outputs": [],
   "source": []
  }
 ],
 "metadata": {
  "kernelspec": {
   "display_name": "Python 3 (ipykernel)",
   "language": "python",
   "name": "python3"
  },
  "language_info": {
   "codemirror_mode": {
    "name": "ipython",
    "version": 3
   },
   "file_extension": ".py",
   "mimetype": "text/x-python",
   "name": "python",
   "nbconvert_exporter": "python",
   "pygments_lexer": "ipython3",
   "version": "3.12.4"
  }
 },
 "nbformat": 4,
 "nbformat_minor": 5
}

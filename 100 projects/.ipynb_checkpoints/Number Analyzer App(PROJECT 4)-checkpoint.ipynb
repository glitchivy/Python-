{
 "cells": [
  {
   "cell_type": "markdown",
   "id": "9a243006-008b-4c57-9d47-de9bd9b7769e",
   "metadata": {},
   "source": [
    "### MAIN TASK"
   ]
  },
  {
   "cell_type": "code",
   "execution_count": 2,
   "id": "86305d31-779e-442d-b88a-e5d89b9c01bf",
   "metadata": {},
   "outputs": [
    {
     "name": "stdin",
     "output_type": "stream",
     "text": [
      "enter the three numbers 1 2 3 \n"
     ]
    },
    {
     "name": "stdout",
     "output_type": "stream",
     "text": [
      "number 3 is the largest:  3\n"
     ]
    }
   ],
   "source": [
    "no1,no2,no3=input(\"enter the three numbers\").split()\n",
    "if no1>no2 and no1>no3:\n",
    "    print(\"Number one is the largest: \",no1)\n",
    "elif no2>no3 and no2>no1:\n",
    "    print(\"Number Two is the largest:\",no2)\n",
    "else:\n",
    "    print(\"number 3 is the largest: \",no3)"
   ]
  },
  {
   "cell_type": "markdown",
   "id": "a0527586-adb9-4b9d-8f76-3bd08f69343e",
   "metadata": {},
   "source": [
    "### Number Analyzer App"
   ]
  },
  {
   "cell_type": "markdown",
   "id": "19ed84df-4311-448f-89f0-209b9ea05047",
   "metadata": {},
   "source": [
    "Side Quests\n",
    "\n",
    "Path A → Minimum Finder\n",
    "Extend code to also print the smallest.\n",
    "\n",
    "Path B → Equal Numbers Mode\n",
    "Add checks for equal numbers (all equal / two equal).\n",
    "\n",
    "Path C → Auto-Sorter\n",
    "Sort the 3 numbers (asc & desc).\n",
    "\n",
    "Path D → N-Numbers Mode\n",
    "Let user enter n numbers → find largest & smallest."
   ]
  },
  {
   "cell_type": "code",
   "execution_count": 14,
   "id": "a30ed665-9955-4303-aa32-a1148075eb83",
   "metadata": {},
   "outputs": [
    {
     "name": "stdout",
     "output_type": "stream",
     "text": [
      "LETS ANALYZE SOME NUMBERS \n",
      "SELECT THE PATH\n",
      "1. Find Largest\n",
      "2.Find Smallest\n",
      "3.Sort Asc\n",
      "4.Sort Desc\n",
      "5.N numbers → Find Largest & Smallest\n",
      "6.sum, avg\n"
     ]
    },
    {
     "name": "stdin",
     "output_type": "stream",
     "text": [
      "enter the number of the operation you want to perform if no operation then press exit 6\n",
      "ENTER THE LIST OF NUMBERS YOU WANT TO SORT  1 2 3 4 \n"
     ]
    },
    {
     "name": "stdout",
     "output_type": "stream",
     "text": [
      "THE SUM IS :10\n",
      "THE AVERAGE IS: 2.5\n"
     ]
    },
    {
     "name": "stdin",
     "output_type": "stream",
     "text": [
      "enter the number of the operation you want to perform if no operation then press exit exit\n"
     ]
    },
    {
     "name": "stdout",
     "output_type": "stream",
     "text": [
      "exitinggggg\n"
     ]
    }
   ],
   "source": [
    "print(\"LETS ANALYZE SOME NUMBERS \")\n",
    "\n",
    "print(\"SELECT THE PATH\")\n",
    "print(\"1. Find Largest\")\n",
    "print(\"2.Find Smallest\")\n",
    "print(\"3.Sort Asc\")\n",
    "print(\"4.Sort Desc\")\n",
    "print(\"5.N numbers → Find Largest & Smallest\")\n",
    "print(\"6.sum, avg\")\n",
    "\n",
    "while True:\n",
    "    choice=input(\"enter the number of the operation you want to perform if no operation then press exit\")\n",
    "    if choice.lower()==\"exit\":\n",
    "        print(\"exitinggggg\")\n",
    "        break \n",
    "    if choice==\"1\":   # TO FIND THE LARGEST \n",
    "        no1,no2,no3= map(int,input().split())\n",
    "        maxvalue=max(no1,no2,no3)\n",
    "        print(f\" The largest number is : {maxvalue}\")\n",
    "    elif choice=='2':\n",
    "        no1,no2,no3= map(int,input().split())\n",
    "        minvalue=min(no1,no2,no3)\n",
    "        print(f\"The Minimum value is : {minvalue}\")\n",
    "    elif choice==\"3\":\n",
    "        array=list(map(int,input(\"ENTER THE LIST OF NUMBERS YOU WANT TO SORT \").split()))\n",
    "        array.sort()\n",
    "        print(\"ASCENDING ORDER OF NUMBER IS :\")\n",
    "        \n",
    "        for i in array:\n",
    "            print(i)\n",
    "    elif choice==\"4\":\n",
    "        array=list(map(int,input(\"ENTER THE LIST OF NUMBERS YOU WANT TO SORT \").split()))\n",
    "        array.sort(reverse=True)\n",
    "        print(\"DESCENDING ORDER OF NUMBER IS :\")\n",
    "        \n",
    "        for i in array:\n",
    "            print(i)\n",
    "    elif choice=='5':\n",
    "        array=list(map(int,input(\"ENTER THE LIST OF NUMBERS YOU WANT TO SORT \").split()))\n",
    "        maxvalue=max(array)\n",
    "        minvalue=min(array) \n",
    "        print(f\"MAX VALUE = {maxvalue} \\n MIN VALUE={minvalue}\")\n",
    "    elif choice=='6':\n",
    "        array=list(map(int,input(\"ENTER THE LIST OF NUMBERS YOU WANT TO SORT \").split()))\n",
    "        sum=0\n",
    "        avg=0 \n",
    "        for i in array:\n",
    "            sum=sum+i \n",
    "        n=len(array)\n",
    "        avg=sum/n \n",
    "        print(f\"THE SUM IS :{sum}\")\n",
    "        print(f\"THE AVERAGE IS: {avg}\")\n",
    "    else:\n",
    "        print(\"INVALID INPUT\")\n",
    "        \n",
    "        \n",
    "        \n"
   ]
  },
  {
   "cell_type": "code",
   "execution_count": null,
   "id": "60626fd0-5a91-40cb-8b70-97110f374099",
   "metadata": {},
   "outputs": [],
   "source": []
  }
 ],
 "metadata": {
  "kernelspec": {
   "display_name": "Python 3 (ipykernel)",
   "language": "python",
   "name": "python3"
  },
  "language_info": {
   "codemirror_mode": {
    "name": "ipython",
    "version": 3
   },
   "file_extension": ".py",
   "mimetype": "text/x-python",
   "name": "python",
   "nbconvert_exporter": "python",
   "pygments_lexer": "ipython3",
   "version": "3.12.4"
  }
 },
 "nbformat": 4,
 "nbformat_minor": 5
}

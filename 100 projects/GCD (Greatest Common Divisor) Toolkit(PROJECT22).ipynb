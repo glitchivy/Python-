{
 "cells": [
  {
   "cell_type": "markdown",
   "id": "60dd3d09-b52f-4278-b69d-d51883c6cf88",
   "metadata": {},
   "source": [
    "### GCD (Greatest Common Divisor) Toolkit"
   ]
  },
  {
   "cell_type": "markdown",
   "id": "1ef98e4c-6f8d-4200-8a18-46d8e91a32e1",
   "metadata": {},
   "source": [
    "\n",
    "\n",
    "**Features / Operations:**\n",
    "\n",
    "1. Find GCD of Two Numbers – Enter two numbers, get their greatest common divisor.\n",
    "2. Find GCD of Multiple Numbers– Input a list of numbers to find the GCD of all.\n",
    "3. Euclidean Algorithm Step-by-Step – Show how the GCD is calculated using the Euclidean method.\n",
    "4. Check if Two Numbers are Coprime – Determine if the GCD is 1.\n",
    "5. Save GCD Calculations to File – Record all GCD results and steps into a file.\n",
    "6. Exit – Exit the toolkit.\n",
    "\n",
    "\n"
   ]
  },
  {
   "cell_type": "code",
   "execution_count": 3,
   "id": "7dc7b7a5-da44-4355-a4a4-f649d634551c",
   "metadata": {},
   "outputs": [
    {
     "name": "stdout",
     "output_type": "stream",
     "text": [
      "\n",
      "--- GCD TOOLKIT ----\n",
      "1. Find GCD of Two Numbers\n",
      "2. Find GCD of Multiple Numbers\n",
      "3. Check if Two Numbers are Coprime\n",
      "4. Show GCD History\n",
      "5. Save History to File\n",
      "6. Exit\n"
     ]
    },
    {
     "name": "stdin",
     "output_type": "stream",
     "text": [
      "Enter the number of the operation you want to perform:  1\n",
      "enter the first number 12\n",
      "enter the second number 19\n"
     ]
    },
    {
     "name": "stdout",
     "output_type": "stream",
     "text": [
      "GCD of 12 and 19 is 1\n"
     ]
    },
    {
     "name": "stdin",
     "output_type": "stream",
     "text": [
      "Enter the number of the operation you want to perform:  2\n",
      "enter num you want to find gcd of 12 19 22 \n"
     ]
    },
    {
     "name": "stdout",
     "output_type": "stream",
     "text": [
      "GCD of [12, 19, 22] is 1\n"
     ]
    },
    {
     "name": "stdin",
     "output_type": "stream",
     "text": [
      "Enter the number of the operation you want to perform:  3\n",
      "enter the first number 12\n",
      "enter the second number 20\n"
     ]
    },
    {
     "name": "stdout",
     "output_type": "stream",
     "text": [
      "12,20 is  not co prime\n"
     ]
    },
    {
     "name": "stdin",
     "output_type": "stream",
     "text": [
      "Enter the number of the operation you want to perform:  4\n"
     ]
    },
    {
     "name": "stdout",
     "output_type": "stream",
     "text": [
      "GCD of 12 and 19 is 1\n",
      "Steps: 12%19=12, 19%12=7, 12%7=5, 7%5=2, 5%2=1, 2%1=0\n",
      "GCD of [12, 19, 22] is 1\n"
     ]
    },
    {
     "name": "stdin",
     "output_type": "stream",
     "text": [
      "Enter the number of the operation you want to perform:  5\n"
     ]
    },
    {
     "name": "stdout",
     "output_type": "stream",
     "text": [
      "done\n"
     ]
    },
    {
     "name": "stdin",
     "output_type": "stream",
     "text": [
      "Enter the number of the operation you want to perform:  6\n"
     ]
    },
    {
     "name": "stdout",
     "output_type": "stream",
     "text": [
      "Thank you for using the GCD Toolkit!\n"
     ]
    }
   ],
   "source": [
    "print(\"\\n--- GCD TOOLKIT ----\")\n",
    "print(\"1. Find GCD of Two Numbers\")\n",
    "print(\"2. Find GCD of Multiple Numbers\")\n",
    "print(\"3. Check if Two Numbers are Coprime\")\n",
    "print(\"4. Show GCD History\")\n",
    "print(\"5. Save History to File\")\n",
    "print(\"6. Exit\")\n",
    "\n",
    "history = []\n",
    "while True:\n",
    "    choice = int(input(\"Enter the number of the operation you want to perform: \"))\n",
    "    if choice == 6:\n",
    "        print(\"Thank you for using the GCD Toolkit!\")\n",
    "        break\n",
    "    elif choice==1:\n",
    "        a=int(input(\"enter the first number\"))\n",
    "        b=int(input(\"enter the second number\"))\n",
    "        x,y=a,b\n",
    "        steps=[]\n",
    "        while b!=0:\n",
    "            steps.append(f\"{a}%{b}={a%b}\")\n",
    "            a,b=b,a%b\n",
    "        result = f\"GCD of {x} and {y} is {a}\"\n",
    "        print(result)\n",
    "        history.append(result)\n",
    "        history.append(\"Steps: \" + \", \".join(steps))\n",
    "    elif choice==2:\n",
    "        nums=list(map(int,input(\"enter num you want to find gcd of\").split()))\n",
    "        gcd=nums[0]\n",
    "        for i in nums[1:]:\n",
    "            a,b=gcd,i\n",
    "            while b!=0:\n",
    "                a,b=b,a%b\n",
    "            gcd=a \n",
    "        print(f\"GCD of {nums} is {gcd}\")\n",
    "        history.append(f\"GCD of {nums} is {gcd}\")\n",
    "    elif choice==3:\n",
    "        a=int(input(\"enter the first number\"))\n",
    "        b=int(input(\"enter the second number\"))\n",
    "        x,y=a,b\n",
    "        while y!=0:\n",
    "            x,y=y,x%y\n",
    "        if y==1:\n",
    "            print(f\"{a},{b} is co prime\")\n",
    "        else:\n",
    "            print(f\"{a},{b} is  not co prime\")\n",
    "    elif choice==4:\n",
    "        for i in history:\n",
    "            print(i)\n",
    "            \n",
    "    elif choice==5:\n",
    "        with open(\"gcd.txt\",'w') as f:\n",
    "            for i in history:\n",
    "                f.write(i+\"\\n\")\n",
    "        print(\"done\")\n",
    "        \n",
    "            \n",
    "    "
   ]
  },
  {
   "cell_type": "code",
   "execution_count": null,
   "id": "8a665c14-c7ab-4d09-af51-e601f789eabd",
   "metadata": {},
   "outputs": [],
   "source": []
  }
 ],
 "metadata": {
  "kernelspec": {
   "display_name": "Python 3 (ipykernel)",
   "language": "python",
   "name": "python3"
  },
  "language_info": {
   "codemirror_mode": {
    "name": "ipython",
    "version": 3
   },
   "file_extension": ".py",
   "mimetype": "text/x-python",
   "name": "python",
   "nbconvert_exporter": "python",
   "pygments_lexer": "ipython3",
   "version": "3.12.4"
  }
 },
 "nbformat": 4,
 "nbformat_minor": 5
}

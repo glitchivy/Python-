{
 "cells": [
  {
   "cell_type": "markdown",
   "id": "27886243-3544-4336-b9df-b687da588a1e",
   "metadata": {},
   "source": [
    "### Even/Odd Checker"
   ]
  },
  {
   "cell_type": "code",
   "execution_count": 1,
   "id": "37d6e768-e214-4a67-b6db-a04233eefddc",
   "metadata": {},
   "outputs": [
    {
     "name": "stdin",
     "output_type": "stream",
     "text": [
      "Enter your number 3\n"
     ]
    },
    {
     "name": "stdout",
     "output_type": "stream",
     "text": [
      "The number 3 is odd\n"
     ]
    }
   ],
   "source": [
    "number=int(input(\"Enter your number\"))\n",
    "if number%2==0:\n",
    "    print(f\"The number {number} is even\")\n",
    "else:\n",
    "    print(f\"The number {number} is odd\")"
   ]
  },
  {
   "cell_type": "markdown",
   "id": "be56d216-47fb-45fe-a83e-04ef81e0e41f",
   "metadata": {},
   "source": [
    "### Odd/Even Analyzer App"
   ]
  },
  {
   "cell_type": "markdown",
   "id": "617478f7-4677-4e2c-8d10-0a930586af28",
   "metadata": {},
   "source": [
    "### Side Quests"
   ]
  },
  {
   "cell_type": "markdown",
   "id": "010ccbe0-4589-4ef2-90d8-8c24a0227526",
   "metadata": {},
   "source": [
    "Path A → Check multiple numbers at once.\n",
    "\n",
    "Path B → Count odd vs even numbers.\n",
    "\n",
    "Path C → Show sum of odds and evens separately."
   ]
  },
  {
   "cell_type": "code",
   "execution_count": 11,
   "id": "5b95f8a5-0bf8-4722-b827-fdc775a77176",
   "metadata": {},
   "outputs": [
    {
     "name": "stdout",
     "output_type": "stream",
     "text": [
      "WELCOME TO MY ODD/EVEN ANALYZER PROJECT PLS SELECT THE PATH \n"
     ]
    },
    {
     "name": "stdin",
     "output_type": "stream",
     "text": [
      "A/B/C A\n",
      "to play press any number and to end type exit 1\n"
     ]
    },
    {
     "name": "stdout",
     "output_type": "stream",
     "text": [
      "The number 1 is odd\n"
     ]
    },
    {
     "name": "stdin",
     "output_type": "stream",
     "text": [
      "to play press any number and to end type exit 2\n"
     ]
    },
    {
     "name": "stdout",
     "output_type": "stream",
     "text": [
      "The number 2 is even\n"
     ]
    },
    {
     "name": "stdin",
     "output_type": "stream",
     "text": [
      "to play press any number and to end type exit 3\n"
     ]
    },
    {
     "name": "stdout",
     "output_type": "stream",
     "text": [
      "The number 3 is odd\n"
     ]
    },
    {
     "name": "stdin",
     "output_type": "stream",
     "text": [
      "to play press any number and to end type exit 3\n"
     ]
    },
    {
     "name": "stdout",
     "output_type": "stream",
     "text": [
      "The number 3 is odd\n"
     ]
    },
    {
     "name": "stdin",
     "output_type": "stream",
     "text": [
      "to play press any number and to end type exit exit\n"
     ]
    },
    {
     "name": "stdout",
     "output_type": "stream",
     "text": [
      "you ended the program\n"
     ]
    }
   ],
   "source": [
    "print(\"WELCOME TO MY ODD/EVEN ANALYZER PROJECT PLS SELECT THE PATH \")\n",
    "\n",
    "path=input(\"A/B/C\")\n",
    "if path=='A':\n",
    "    while True:\n",
    "        user_input=input(\"to play press any number and to end type exit\")\n",
    "        if user_input.lower()=='exit':\n",
    "            print(\"you ended the program\")\n",
    "            break \n",
    "        number=int(user_input)\n",
    "        if number%2==0:\n",
    "            print(f\"The number {number} is even\")\n",
    "        else:\n",
    "            print(f\"The number {number} is odd\")\n",
    "elif path==\"B\":\n",
    "    print(\"Path B Count odd vs even numbers.\")\n",
    "    countodd=0 \n",
    "    counteven=0\n",
    "    while True:\n",
    "        number1=input(\"Enter the number you want to add else write exit\")\n",
    "        if number1.lower()==\"exit\":\n",
    "            print(\"numbers done\")\n",
    "            print(f\"odd count: {countodd}\")\n",
    "            print(f\"even count:{counteven}\")\n",
    "            break;\n",
    "        number=int(number1)\n",
    "        if number%2==0:\n",
    "            counteven=counteven+1\n",
    "        elif number%2!=0:\n",
    "            countodd=countodd+1\n",
    "            \n",
    "elif path==\"C\":\n",
    "    print(\"Path C SUM odd vs even numbers.\")\n",
    "    countodd=0 \n",
    "    counteven=0\n",
    "    while True:\n",
    "        number1=input(\"Enter the number you want to add else write exit\")\n",
    "        if number1.lower()==\"exit\":\n",
    "            print(\"numbers done\")\n",
    "            print(f\"odd count: {countodd}\")\n",
    "            print(f\"even count:{counteven}\")\n",
    "            break;\n",
    "        number=int(number1)\n",
    "        if number%2==0:\n",
    "            counteven=counteven+number\n",
    "        elif number%2!=0:\n",
    "            countodd=countodd+number\n",
    "    "
   ]
  },
  {
   "cell_type": "code",
   "execution_count": null,
   "id": "609ff003-1666-4730-82ab-81cded0c15cd",
   "metadata": {},
   "outputs": [],
   "source": []
  }
 ],
 "metadata": {
  "kernelspec": {
   "display_name": "Python 3 (ipykernel)",
   "language": "python",
   "name": "python3"
  },
  "language_info": {
   "codemirror_mode": {
    "name": "ipython",
    "version": 3
   },
   "file_extension": ".py",
   "mimetype": "text/x-python",
   "name": "python",
   "nbconvert_exporter": "python",
   "pygments_lexer": "ipython3",
   "version": "3.12.4"
  }
 },
 "nbformat": 4,
 "nbformat_minor": 5
}

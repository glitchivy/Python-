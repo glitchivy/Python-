{
 "cells": [
  {
   "cell_type": "markdown",
   "id": "b569c658-86e0-4385-9e1f-95dd13c7bb5f",
   "metadata": {},
   "source": [
    "### SIMPLE INTREST CALC"
   ]
  },
  {
   "cell_type": "code",
   "execution_count": 1,
   "id": "478db0c5-9f10-44a4-b2d0-6bf4a095e1a7",
   "metadata": {},
   "outputs": [
    {
     "name": "stdin",
     "output_type": "stream",
     "text": [
      " 4\n",
      " 5\n",
      " 23\n"
     ]
    },
    {
     "name": "stdout",
     "output_type": "stream",
     "text": [
      "460\n"
     ]
    }
   ],
   "source": [
    "# si = ptr \n",
    "\n",
    "principal=int(input())\n",
    "time=int(input())\n",
    "rate=int(input())\n",
    "si=principal*rate*time \n",
    "print(si)"
   ]
  },
  {
   "cell_type": "markdown",
   "id": "924f92d0-84f4-493f-8af1-f24c5251d40b",
   "metadata": {},
   "source": [
    " Interest Calculator App\n",
    "\n",
    "Build a full menu-based program:\n",
    "\n",
    "Calculate Simple Interest (Yearly)\n",
    "\n",
    "Calculate Total Amount\n",
    "\n",
    "Calculate Monthly Interest\n",
    "\n",
    "Multi-Loan Interest Summary\n",
    "\n",
    "Exit"
   ]
  },
  {
   "cell_type": "code",
   "execution_count": 5,
   "id": "0c90df3a-7548-4e8b-a7aa-2c3c6d3c1ce1",
   "metadata": {},
   "outputs": [
    {
     "name": "stdout",
     "output_type": "stream",
     "text": [
      "SIMPLE INTREST CALCULATOR APP\n",
      "FEATURES\n",
      "1. Calculate Simple Interest (Yearly)\n",
      "2. Calculate Total Amount\n",
      "3. Calculate Monthly Interest\n",
      "4. Multi-Loan Interest Summary\n",
      "5. Exit\n"
     ]
    },
    {
     "name": "stdin",
     "output_type": "stream",
     "text": [
      "SELECT THE CHOICE YOU WANT TO PERFORM  4\n",
      "ENTER THE NO OF TIMES USER WANT TO PUT A LOAN 3\n",
      " 2 3 4 \n"
     ]
    },
    {
     "name": "stdout",
     "output_type": "stream",
     "text": [
      " THIS YEAR SI IS:  24\n"
     ]
    },
    {
     "name": "stdin",
     "output_type": "stream",
     "text": [
      " 8 7 6\n"
     ]
    },
    {
     "name": "stdout",
     "output_type": "stream",
     "text": [
      " THIS YEAR SI IS:  336\n"
     ]
    },
    {
     "name": "stdin",
     "output_type": "stream",
     "text": [
      " 987 77 99\n"
     ]
    },
    {
     "name": "stdout",
     "output_type": "stream",
     "text": [
      " THIS YEAR SI IS:  7523901\n"
     ]
    },
    {
     "name": "stdin",
     "output_type": "stream",
     "text": [
      "SELECT THE CHOICE YOU WANT TO PERFORM  5\n"
     ]
    },
    {
     "name": "stdout",
     "output_type": "stream",
     "text": [
      "Exit the Calc\n"
     ]
    }
   ],
   "source": [
    "print(\"SIMPLE INTREST CALCULATOR APP\")\n",
    "\n",
    "print(\"FEATURES\")\n",
    "print(\"1. Calculate Simple Interest (Yearly)\")\n",
    "print(\"2. Calculate Total Amount\")\n",
    "print(\"3. Calculate Monthly Interest\")\n",
    "print(\"4. Multi-Loan Interest Summary\") \n",
    "print(\"5. Exit\") \n",
    "\n",
    "while True:\n",
    "    choice= input(\"SELECT THE CHOICE YOU WANT TO PERFORM \")\n",
    "    if choice==\"1\":\n",
    "        Principal,Rate,Time=map(int,input().split())\n",
    "        Simple_Intrest= (Principal*Rate*Time)/100\n",
    "        print(\" THIS YEAR SI IS: \",Simple_Intrest)\n",
    "    elif choice=='2':\n",
    "        Principal,Rate,Time=map(int,input().split())\n",
    "        Simple_Intrest= (Principal*Rate*Time)/100\n",
    "        total= Principal+Simple_Intrest\n",
    "        print(\"THE TOTAL AMOUNT IS :\",total)\n",
    "    elif choice=='3':\n",
    "        Principal,Rate,Time=map(int,input().split())\n",
    "        Simple_Intrest= Principal*Rate*(Time/12)\n",
    "        MONTH_SI= Simple_Intrest/100\n",
    "        print(\"THE MONTH SIMPLE INTREST IS :\",MONTH_SI)\n",
    "    elif choice=='4':\n",
    "        times=int(input(\"ENTER THE NO OF TIMES USER WANT TO PUT A LOAN\"))\n",
    "        for i in range(times):\n",
    "            Principal,Rate,Time=map(int,input().split())\n",
    "            Simple_Intrest= (Principal*Rate*Time)/100\n",
    "            print(\" THIS YEAR SI IS: \",Simple_Intrest)\n",
    "            \n",
    "    elif choice=='5':\n",
    "        print(\"Exit the Calc\")\n",
    "        break \n",
    "    "
   ]
  },
  {
   "cell_type": "code",
   "execution_count": null,
   "id": "786b7341-e9b3-45b5-943e-da5cd84e57fe",
   "metadata": {},
   "outputs": [],
   "source": []
  }
 ],
 "metadata": {
  "kernelspec": {
   "display_name": "Python 3 (ipykernel)",
   "language": "python",
   "name": "python3"
  },
  "language_info": {
   "codemirror_mode": {
    "name": "ipython",
    "version": 3
   },
   "file_extension": ".py",
   "mimetype": "text/x-python",
   "name": "python",
   "nbconvert_exporter": "python",
   "pygments_lexer": "ipython3",
   "version": "3.12.4"
  }
 },
 "nbformat": 4,
 "nbformat_minor": 5
}

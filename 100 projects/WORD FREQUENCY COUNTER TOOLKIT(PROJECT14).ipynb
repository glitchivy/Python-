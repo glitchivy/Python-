{
 "cells": [
  {
   "cell_type": "markdown",
   "id": "64a34a6a-b2ce-4ac8-953c-bf0afc5b4c3b",
   "metadata": {},
   "source": [
    "### WORD FREQUENCY COUNTER TOOLKIT\n"
   ]
  },
  {
   "cell_type": "markdown",
   "id": "82b2cdfa-f3b9-4b04-be03-ca354b66acde",
   "metadata": {},
   "source": [
    "1.Count frequency of words in a string\n",
    "\n",
    "2.Count frequency of words in a file\n",
    "\n",
    "3.Find frequency of a specific word\n",
    "\n",
    "4.Display top N most frequent words\n",
    "\n",
    "5.Save word frequencies to file\n",
    "\n",
    "6.Exit"
   ]
  },
  {
   "cell_type": "code",
   "execution_count": null,
   "id": "cffe972e-3206-48db-a588-228cda3b01cb",
   "metadata": {},
   "outputs": [
    {
     "name": "stdout",
     "output_type": "stream",
     "text": [
      "---- WORD FREQUENCY COUNTER TOOLKIT ----\n",
      "1. Count frequency of words in a string\n",
      "2. Count frequency of words in a file\n",
      "3. Find frequency of a specific word\n",
      "4. Display top N most frequent words\n",
      "5. Save word frequencies to file\n",
      "6. Exit\n"
     ]
    },
    {
     "name": "stdin",
     "output_type": "stream",
     "text": [
      "Enter choice:  1\n",
      "enter the text hfwuofh fhowuhgfd gfudoashfi;l\n"
     ]
    },
    {
     "name": "stdout",
     "output_type": "stream",
     "text": [
      "word frequnecy: \n",
      "hfwuofh: 1\n",
      "fhowuhgfd: 1\n",
      "gfudoashfi;l: 1\n"
     ]
    }
   ],
   "source": [
    "print(\"---- WORD FREQUENCY COUNTER TOOLKIT ----\")\n",
    "print(\"1. Count frequency of words in a string\")\n",
    "print(\"2. Count frequency of words in a file\")\n",
    "print(\"3. Find frequency of a specific word\")\n",
    "print(\"4. Display top N most frequent words\")\n",
    "print(\"5. Save word frequencies to file\")\n",
    "print(\"6. Exit\")\n",
    "\n",
    "while True:\n",
    "    choice = int(input(\"Enter choice: \"))\n",
    "    if choice==6:\n",
    "        print(\"ending\")\n",
    "        break\n",
    "    elif choice==1:\n",
    "        text=input(\"enter the text\")\n",
    "        words=text.lower().split()\n",
    "        freq={}\n",
    "        for i in words:\n",
    "            freq[i]=freq.get(i,0)+1\n",
    "        print(\"word frequnecy: \")\n",
    "        for i, count in freq.items():\n",
    "             print(f\"{i}: {count}\")\n",
    "        \n",
    "        "
   ]
  },
  {
   "cell_type": "code",
   "execution_count": null,
   "id": "d49ecc93-7a67-47fe-a688-0e5602616e69",
   "metadata": {},
   "outputs": [],
   "source": []
  }
 ],
 "metadata": {
  "kernelspec": {
   "display_name": "Python 3 (ipykernel)",
   "language": "python",
   "name": "python3"
  },
  "language_info": {
   "codemirror_mode": {
    "name": "ipython",
    "version": 3
   },
   "file_extension": ".py",
   "mimetype": "text/x-python",
   "name": "python",
   "nbconvert_exporter": "python",
   "pygments_lexer": "ipython3",
   "version": "3.12.4"
  }
 },
 "nbformat": 4,
 "nbformat_minor": 5
}

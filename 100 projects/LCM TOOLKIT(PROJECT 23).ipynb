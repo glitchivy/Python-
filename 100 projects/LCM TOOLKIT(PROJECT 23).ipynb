{
 "cells": [
  {
   "cell_type": "markdown",
   "id": "6ed9198d-2466-42d4-b180-171270adedd9",
   "metadata": {},
   "source": [
    "### LCM TOOLKIT"
   ]
  },
  {
   "cell_type": "markdown",
   "id": "a44fa9e4-8504-4e88-bc16-54645ea342d9",
   "metadata": {},
   "source": [
    "\n",
    "\n",
    "### **Features / Menu Options for LCM Toolkit:**\n",
    "\n",
    "**--- LCM TOOLKIT ---**\n",
    "\n",
    "**Description of Each Choice:**\n",
    "\n",
    "1. **Find LCM of Two Numbers** – Computes the Least Common Multiple of two integers using the relationship `LCM(a,b) = (a*b)/GCD(a,b).\n",
    "2. **Find LCM of Multiple Numbers** – Computes the LCM for a list of numbers.\n",
    "3. **Check if Two Numbers are Multiples** – Determines if one number is a multiple of another.\n",
    "4. **Show LCM History** – Displays all previously calculated LCMs.\n",
    "5. **Save History to File** – Saves the history of all LCM calculations to a text file.\n",
    "6. **Exit** – Closes the program.\n"
   ]
  },
  {
   "cell_type": "code",
   "execution_count": 3,
   "id": "6f47af60-d410-485c-aebb-c9d486d73eaa",
   "metadata": {},
   "outputs": [
    {
     "name": "stdout",
     "output_type": "stream",
     "text": [
      "\n",
      "--- LCM TOOLKIT ----\n",
      "1. Find LCM of Two Numbers\n",
      "2. Find LCM of Multiple Numbers\n",
      "3. Check if Two Numbers are Multiples\n",
      "4. Show LCM History\n",
      "5. Save History to File\n",
      "6. Exit\n"
     ]
    },
    {
     "name": "stdin",
     "output_type": "stream",
     "text": [
      "enter the number of the operation you want to perform 1\n",
      "enter the value of number 1 12\n",
      "enter the value of number 2 19\n"
     ]
    },
    {
     "name": "stdout",
     "output_type": "stream",
     "text": [
      "LCM of 12 and 19 is 228\n"
     ]
    },
    {
     "name": "stdin",
     "output_type": "stream",
     "text": [
      "enter the number of the operation you want to perform 2\n",
      "Enter numbers separated by space:  12 91 11\n"
     ]
    },
    {
     "name": "stdout",
     "output_type": "stream",
     "text": [
      "LCM of [12, 91, 11] is 12012\n"
     ]
    },
    {
     "name": "stdin",
     "output_type": "stream",
     "text": [
      "enter the number of the operation you want to perform 3\n",
      "enter the first number 12\n",
      "enter the second number 6\n"
     ]
    },
    {
     "name": "stdout",
     "output_type": "stream",
     "text": [
      "12,6 is a multiple\n"
     ]
    },
    {
     "name": "stdin",
     "output_type": "stream",
     "text": [
      "enter the number of the operation you want to perform 4\n"
     ]
    },
    {
     "name": "stdout",
     "output_type": "stream",
     "text": [
      "LCM of 12 and 19 is 228\n",
      "LCM of [12, 91, 11] is 12012\n"
     ]
    },
    {
     "name": "stdin",
     "output_type": "stream",
     "text": [
      "enter the number of the operation you want to perform 5\n"
     ]
    },
    {
     "name": "stdout",
     "output_type": "stream",
     "text": [
      "History updated\n"
     ]
    },
    {
     "name": "stdin",
     "output_type": "stream",
     "text": [
      "enter the number of the operation you want to perform 6\n"
     ]
    },
    {
     "name": "stdout",
     "output_type": "stream",
     "text": [
      "Thank you for using LCM TOOL KIT\n"
     ]
    }
   ],
   "source": [
    "print(\"\\n--- LCM TOOLKIT ----\")\n",
    "print(\"1. Find LCM of Two Numbers\")\n",
    "print(\"2. Find LCM of Multiple Numbers\")\n",
    "print(\"3. Check if Two Numbers are Multiples\")\n",
    "print(\"4. Show LCM History\")\n",
    "print(\"5. Save History to File\")\n",
    "print(\"6. Exit\")\n",
    "\n",
    "history = []\n",
    "while True:\n",
    "    choice=int(input(\"enter the number of the operation you want to perform\"))\n",
    "    if choice==6:\n",
    "        print(\"Thank you for using LCM TOOL KIT\")\n",
    "        break\n",
    "    elif choice==1:\n",
    "        #first gcd\n",
    "        no1=int(input(\"enter the value of number 1\"))\n",
    "        no2=int(input(\"enter the value of number 2\"))\n",
    "        a,b=no1,no2\n",
    "        while b!=0:\n",
    "            a,b=b,a%b\n",
    "        #now lcm \n",
    "        lcm=no1*no2//a\n",
    "        result = f\"LCM of {no1} and {no2} is {lcm}\"\n",
    "        print(result)\n",
    "        history.append(result)\n",
    "    elif choice==2:\n",
    "        nums = list(map(int, input(\"Enter numbers separated by space: \").split()))\n",
    "        lcm = nums[0]\n",
    "        for i in nums[1:]:\n",
    "            a, b = lcm, i\n",
    "            while b != 0:\n",
    "                a, b = b, a % b\n",
    "            lcm = (lcm * i) // a\n",
    "        result = f\"LCM of {nums} is {lcm}\"\n",
    "        print(result)\n",
    "        history.append(result)\n",
    "    elif choice==3:\n",
    "        a=int(input(\"enter the first number\"))\n",
    "        b=int(input(\"enter the second number\"))\n",
    "        if max(a,b)%min(a,b)==0:\n",
    "            print(f\"{a},{b} is a multiple\")\n",
    "        else:\n",
    "            print(f\"{a},{b} is not a multiple\")\n",
    "    elif choice==4:\n",
    "        for i in history:\n",
    "            print(i)\n",
    "    elif choice==5:\n",
    "        with open(\"LCM.txt\" ,\"w\") as f:\n",
    "            for i in history:\n",
    "                f.write(i+\"\\n\")\n",
    "        print(\"History updated\")\n",
    "            \n",
    "        "
   ]
  },
  {
   "cell_type": "code",
   "execution_count": null,
   "id": "58821753-7740-414f-afb9-4949ee1cfddb",
   "metadata": {},
   "outputs": [],
   "source": []
  }
 ],
 "metadata": {
  "kernelspec": {
   "display_name": "Python 3 (ipykernel)",
   "language": "python",
   "name": "python3"
  },
  "language_info": {
   "codemirror_mode": {
    "name": "ipython",
    "version": 3
   },
   "file_extension": ".py",
   "mimetype": "text/x-python",
   "name": "python",
   "nbconvert_exporter": "python",
   "pygments_lexer": "ipython3",
   "version": "3.12.4"
  }
 },
 "nbformat": 4,
 "nbformat_minor": 5
}

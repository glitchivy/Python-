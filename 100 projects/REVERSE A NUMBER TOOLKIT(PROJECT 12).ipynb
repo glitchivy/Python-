{
 "cells": [
  {
   "cell_type": "markdown",
   "id": "eaabb23a-9696-494d-922e-21555b31d3a2",
   "metadata": {},
   "source": [
    "### REVERSE A NUMBER TOOLKIT"
   ]
  },
  {
   "cell_type": "markdown",
   "id": "a580e810-596a-47a6-b9e1-f109f9547ae0",
   "metadata": {},
   "source": [
    "1. Reverse a given number  \n",
    "2. Check if a number is a palindrome  \n",
    "3. Reverse numbers in a range  \n",
    "4. Save reversed number(s) to a file  \n",
    "5. Reverse digits of N numbers  \n",
    "6. Exit  "
   ]
  },
  {
   "cell_type": "code",
   "execution_count": 10,
   "id": "668da2a7-204f-456d-b283-cc72f1b8bd3b",
   "metadata": {},
   "outputs": [
    {
     "name": "stdout",
     "output_type": "stream",
     "text": [
      "--FEATURES--\n",
      "1. Reverse a given number \n",
      "2. Check if a number is a palindrome \n",
      "3. Reverse numbers in a range \n",
      "4. Save reversed number(s) to a file\n",
      "5. Reverse digits of N numbers \n",
      "6. Exit \n"
     ]
    },
    {
     "name": "stdin",
     "output_type": "stream",
     "text": [
      "enter the number of the operation you want to perform 4\n",
      "enter the number you want to reverse 12345\n",
      "enter the number of the operation you want to perform 6\n"
     ]
    },
    {
     "name": "stdout",
     "output_type": "stream",
     "text": [
      "endingggggggggggggggggg\n"
     ]
    }
   ],
   "source": [
    "print(\"--FEATURES--\")\n",
    "print(\"1. Reverse a given number \") \n",
    "print(\"2. Check if a number is a palindrome \") \n",
    "print(\"3. Reverse numbers in a range \")\n",
    "print(\"4. Save reversed number(s) to a file\")  \n",
    "print(\"5. Reverse digits of N numbers \")\n",
    "print(\"6. Exit \")\n",
    "\n",
    "while True:\n",
    "    choice=int(input(\"enter the number of the operation you want to perform\"))\n",
    "    if choice==6:\n",
    "        print(\"endingggggggggggggggggg\")\n",
    "        break\n",
    "    elif choice==1:\n",
    "        n=int(input(\"enter the number you want to reverse\"))\n",
    "        print(int(str(n)[::-1]))\n",
    "    elif choice==2:\n",
    "        n=int(input(\"enter the number you want to check the palidrome with\"))\n",
    "        number1=int(str(n)[::-1])\n",
    "        if n==number1:\n",
    "            print(\"The given number is a palindrome\")\n",
    "        else:\n",
    "            print(\"The given number is not a palindrome\")\n",
    "    elif choice==3:\n",
    "        n=int(input(\"enter the number range you desried\"))\n",
    "        for i in range(n):\n",
    "            new=int(str(i)[::-1])\n",
    "            print(f\"{i} to {new}\")\n",
    "    elif choice==5:\n",
    "        n= list(map(int,input(\"enter the array of numbers you want rebverse of \").split()))\n",
    "        new_arr=[]\n",
    "        \n",
    "        for i in n:\n",
    "            no=int(str(i)[::-1])\n",
    "            new_arr.append(no)\n",
    "        print(f\"old values {n}\")\n",
    "        print(f\"new values {new_arr}\")\n",
    "    elif choice==4:\n",
    "        n=int(input(\"enter the number you want to reverse\"))\n",
    "        with open(\"reverse_number.txt\",\"w\") as f:\n",
    "            no=int(str(n)[::-1])\n",
    "            f.write(str(no) +\"\\n\")\n",
    "            \n",
    "        \n",
    "            \n",
    "\n",
    "\n",
    "\n",
    "        "
   ]
  },
  {
   "cell_type": "code",
   "execution_count": null,
   "id": "50977f6c-37bc-407b-9f8f-b0f3c8c20192",
   "metadata": {},
   "outputs": [],
   "source": []
  }
 ],
 "metadata": {
  "kernelspec": {
   "display_name": "Python 3 (ipykernel)",
   "language": "python",
   "name": "python3"
  },
  "language_info": {
   "codemirror_mode": {
    "name": "ipython",
    "version": 3
   },
   "file_extension": ".py",
   "mimetype": "text/x-python",
   "name": "python",
   "nbconvert_exporter": "python",
   "pygments_lexer": "ipython3",
   "version": "3.12.4"
  }
 },
 "nbformat": 4,
 "nbformat_minor": 5
}

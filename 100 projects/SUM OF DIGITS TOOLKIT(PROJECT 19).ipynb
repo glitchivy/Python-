{
 "cells": [
  {
   "cell_type": "markdown",
   "id": "4934c62b-81ad-4f59-a415-c1593375336e",
   "metadata": {},
   "source": [
    "### SUM OF DIGITS TOOLKIT"
   ]
  },
  {
   "cell_type": "markdown",
   "id": "88e96cd6-be95-4945-b66a-19854ea117f4",
   "metadata": {},
   "source": [
    "1.Single Number → Input a number, get the sum of its digits.\n",
    "\n",
    "2.Range → Input start & end, get sum of digits for all numbers in that range.\n",
    "\n",
    "3.Even/Odd Checker → After finding the sum, check if it’s even or odd.\n",
    "\n",
    "4.Digital Root → Keep summing digits until only 1 digit remains (e.g., 9875 → 29 → 11 → 2).\n",
    "\n",
    "5.Save Results to File → Save all previous operations to a text file.\n",
    "\n",
    "6.Exit → Close the program."
   ]
  },
  {
   "cell_type": "code",
   "execution_count": 6,
   "id": "124aada2-8ec3-4ed2-b672-842488d79d2a",
   "metadata": {},
   "outputs": [
    {
     "name": "stdout",
     "output_type": "stream",
     "text": [
      "---- SUM OF DIGITS TOOLKIT ----\n",
      "1. Find Sum of Digits of a Number\n",
      "2. Find Sum of Digits in a Range\n",
      "3. Check if Sum of Digits is Even or Odd\n",
      "4. Find Digital Root (Repeated Sum Until Single Digit)\n",
      "5. Save Results to File\n",
      "6. Exit\n"
     ]
    },
    {
     "name": "stdin",
     "output_type": "stream",
     "text": [
      "enter the choice you want to perform operation of 2\n",
      "enter the range of digit 12 20\n"
     ]
    },
    {
     "name": "stdout",
     "output_type": "stream",
     "text": [
      "The sum of digits for 12 is 3\n",
      "The sum of digits for 13 is 4\n",
      "The sum of digits for 14 is 5\n",
      "The sum of digits for 15 is 6\n",
      "The sum of digits for 16 is 7\n",
      "The sum of digits for 17 is 8\n",
      "The sum of digits for 18 is 9\n",
      "The sum of digits for 19 is 10\n",
      "The sum of digits for 20 is 2\n"
     ]
    },
    {
     "name": "stdin",
     "output_type": "stream",
     "text": [
      "enter the choice you want to perform operation of 5\n"
     ]
    },
    {
     "name": "stdout",
     "output_type": "stream",
     "text": [
      "history saved\n"
     ]
    },
    {
     "name": "stdin",
     "output_type": "stream",
     "text": [
      "enter the choice you want to perform operation of 6\n"
     ]
    },
    {
     "name": "stdout",
     "output_type": "stream",
     "text": [
      "Thank you\n"
     ]
    }
   ],
   "source": [
    "print(\"---- SUM OF DIGITS TOOLKIT ----\")\n",
    "print(\"1. Find Sum of Digits of a Number\") \n",
    "print(\"2. Find Sum of Digits in a Range\")\n",
    "print(\"3. Check if Sum of Digits is Even or Odd\") \n",
    "print(\"4. Find Digital Root (Repeated Sum Until Single Digit)\")\n",
    "print(\"5. Save Results to File\")\n",
    "print(\"6. Exit\") \n",
    "\n",
    "history = []\n",
    "while True:\n",
    "    choice=int(input(\"enter the choice you want to perform operation of\"))\n",
    "    if choice==6:\n",
    "        print(\"Thank you\")\n",
    "        break\n",
    "    elif choice==1:\n",
    "        digit=int(input(\"enter the number\"))\n",
    "        sums = sum(int(i) for i in str(digit))\n",
    "        result= f\"The sum of digits for {digit} is {sums}\"\n",
    "        history.append(result)\n",
    "        print(result)\n",
    "    elif choice==3:\n",
    "        digit=int(input(\"enter the number\"))\n",
    "        sums = sum(int(i) for i in str(digit))\n",
    "        result=f\"The sum of digits for {digit} is {sums}\"\n",
    "        history.append(result)\n",
    "        if sums%2==0:\n",
    "            print(\"The sum of digit is even\")\n",
    "        else:\n",
    "            print(\"The sum of digit is odd\")\n",
    "    elif choice==2:\n",
    "        start,end=map(int,input(\"enter the range of digit\").split())\n",
    "        #sum of digit in range\n",
    "        for i in range(start,end+1):\n",
    "            digit_sum=sum(int(j) for j in str(i))\n",
    "            result=f\"The sum of digits for {i} is {digit_sum}\"\n",
    "            print(result)\n",
    "            history.append(result)\n",
    "    elif choice==4:\n",
    "        digit=int(input(\"enter the number you want to find the digital root of\"))\n",
    "        digit_sum=digit\n",
    "        while digit_sum >= 10:  \n",
    "            digit_sum = sum(int(i) for i in str(digit_sum))\n",
    "        result = f\"The digital root for {digit} is {digit_sum}\"\n",
    "        print(result)\n",
    "        history.append(result)\n",
    "    elif choice==5:\n",
    "        with open(\"Digit.txt\",'w') as f:\n",
    "            for item in history:\n",
    "                f.write(item+\"\\n\")\n",
    "        print(\"history saved\")\n",
    "        \n",
    "            \n",
    "        \n",
    "        \n",
    "        \n",
    "    \n",
    "    "
   ]
  },
  {
   "cell_type": "code",
   "execution_count": null,
   "id": "0b196f3a-d05a-4a2a-91fd-a6c92b4ee9f8",
   "metadata": {},
   "outputs": [],
   "source": []
  }
 ],
 "metadata": {
  "kernelspec": {
   "display_name": "Python 3 (ipykernel)",
   "language": "python",
   "name": "python3"
  },
  "language_info": {
   "codemirror_mode": {
    "name": "ipython",
    "version": 3
   },
   "file_extension": ".py",
   "mimetype": "text/x-python",
   "name": "python",
   "nbconvert_exporter": "python",
   "pygments_lexer": "ipython3",
   "version": "3.12.4"
  }
 },
 "nbformat": 4,
 "nbformat_minor": 5
}

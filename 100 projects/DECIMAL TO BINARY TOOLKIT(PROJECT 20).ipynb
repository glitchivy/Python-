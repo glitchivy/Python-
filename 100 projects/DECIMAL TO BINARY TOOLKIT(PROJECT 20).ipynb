{
 "cells": [
  {
   "cell_type": "markdown",
   "id": "427a05ff-e930-4f83-a0b8-fda3951c0ff3",
   "metadata": {},
   "source": [
    "### DECIMAL TO BINARY TOOLKIT"
   ]
  },
  {
   "cell_type": "markdown",
   "id": "fd6b7b37-1d03-413c-83da-57abef020a5a",
   "metadata": {},
   "source": [
    " Features\n",
    "\n",
    "1.Convert Decimal to Binary – Enter any decimal number and get its binary representation.\n",
    "\n",
    "2.Convert Range of Decimals to Binary – Input a range (start → end) and generate binary equivalents for all numbers.\n",
    "\n",
    "3.Check Validity of Binary Number – Verify whether a given input is a valid binary (contains only 0 and 1).\n",
    "\n",
    "4.Binary → Decimal Conversion – Convert binary numbers back into decimal form.\n",
    "\n",
    "5.Save Conversion History – Store all conversions in a text file for future reference.\n",
    "\n",
    "6.User-Friendly Menu – Simple menu-driven interface with clear instructions.\n",
    "\n",
    "7.Error Handling – Handles invalid inputs gracefully."
   ]
  },
  {
   "cell_type": "code",
   "execution_count": null,
   "id": "6a423b7f-fa71-4357-8d6d-fdf93b866338",
   "metadata": {},
   "outputs": [
    {
     "name": "stdout",
     "output_type": "stream",
     "text": [
      "\n",
      "--- DECIMAL TO BINARY TOOLKIT ----\n",
      "1. Convert Decimal to Binary\n",
      "2. Convert Range of Decimals to Binary\n",
      "3. Check Valid Binary Number\n",
      "4. Convert Binary to Decimal\n",
      "5. Save Conversion History to File\n",
      "6. Exit\n"
     ]
    },
    {
     "name": "stdin",
     "output_type": "stream",
     "text": [
      "enter the number of the operatin you want to perform 5\n"
     ]
    },
    {
     "name": "stdout",
     "output_type": "stream",
     "text": [
      "history saved\n"
     ]
    }
   ],
   "source": [
    "print(\"\\n--- DECIMAL TO BINARY TOOLKIT ----\")\n",
    "print(\"1. Convert Decimal to Binary\")\n",
    "print(\"2. Convert Range of Decimals to Binary\")\n",
    "print(\"3. Check Valid Binary Number\")\n",
    "print(\"4. Convert Binary to Decimal\")\n",
    "print(\"5. Save Conversion History to File\")\n",
    "print(\"6. Exit\")\n",
    "history=[]\n",
    "while True:\n",
    "    choice=int(input(\"enter the number of the operatin you want to perform\"))\n",
    "    if choice==6:\n",
    "        print(\"Thank you\")\n",
    "        break\n",
    "    elif choice==1:\n",
    "        num=int(input(\"enter the number you want to convert in binary\"))\n",
    "        binary=\"\"\n",
    "        n=num\n",
    "        if n==0:\n",
    "            binary=\"0\"\n",
    "        else:\n",
    "            while n>0:\n",
    "                binary=str(n%2)+binary\n",
    "                n//=2\n",
    "            result= f\"The binary for decimal number {num} is {binary}\"\n",
    "            print(result)\n",
    "            history.append(result)\n",
    "    elif choice==2:\n",
    "        start,end=map(int,input(\"enter the range of start range and end range number you want to convert decimal to binary\" ).split())\n",
    "        for i in range(start,end+1):\n",
    "            binary=\"\"\n",
    "            num=i\n",
    "            if num==0:\n",
    "                binary=\"0\"\n",
    "            else:\n",
    "                while num>0:\n",
    "                    binary=str(num%2)+binary\n",
    "                    num//=2\n",
    "                result= f\"The binary for decimal number {i} is {binary}\"\n",
    "                print(result)\n",
    "                history.append(result)\n",
    "    elif choice==3:\n",
    "        n=input(\"enter a valid binary number\")\n",
    "        binary=True\n",
    "        for i in n:\n",
    "            if i not in \"01\":\n",
    "                binary=False\n",
    "                break\n",
    "        if binary:\n",
    "            print(f\"{n} is a valid binary number \")\n",
    "        else:\n",
    "            print(f\"{n} is a  not valid binary number \")\n",
    "    elif choice==4:\n",
    "        n=input(\"Enter the binary number you want in decimal\")\n",
    "        decimal=0\n",
    "        power=0\n",
    "        for i in n[::-1]:\n",
    "            decimal+=int(i)* (2**power)\n",
    "            power+=1\n",
    "        result= f\"The binary number {n} decimal value is {decimal}\"\n",
    "        history.append(result)\n",
    "        print(result)\n",
    "    elif choice==5:\n",
    "        with open(\"binary.txt\",\"w\") as f:\n",
    "            for i in history:\n",
    "                f.write(i+\"\\n\")\n",
    "            print(\"history saved\")\n",
    "                    \n",
    "                \n",
    "                \n",
    "            \n",
    "            "
   ]
  },
  {
   "cell_type": "code",
   "execution_count": null,
   "id": "fefc8e56-2e70-4063-a745-68ee65a0a951",
   "metadata": {},
   "outputs": [],
   "source": []
  }
 ],
 "metadata": {
  "kernelspec": {
   "display_name": "Python 3 (ipykernel)",
   "language": "python",
   "name": "python3"
  },
  "language_info": {
   "codemirror_mode": {
    "name": "ipython",
    "version": 3
   },
   "file_extension": ".py",
   "mimetype": "text/x-python",
   "name": "python",
   "nbconvert_exporter": "python",
   "pygments_lexer": "ipython3",
   "version": "3.12.4"
  }
 },
 "nbformat": 4,
 "nbformat_minor": 5
}

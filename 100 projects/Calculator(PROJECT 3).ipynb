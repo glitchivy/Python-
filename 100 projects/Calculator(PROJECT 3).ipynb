{
 "cells": [
  {
   "cell_type": "markdown",
   "id": "5bdbb305-1ecc-43ce-a530-4a7f17713b4a",
   "metadata": {},
   "source": [
    "### Basic Calculator"
   ]
  },
  {
   "cell_type": "code",
   "execution_count": 3,
   "id": "b652d5ff-087b-41ca-ad5c-0cb2eb8ee37a",
   "metadata": {},
   "outputs": [
    {
     "name": "stdout",
     "output_type": "stream",
     "text": [
      "WELCOME TO MY CALCULATOR\n"
     ]
    },
    {
     "name": "stdin",
     "output_type": "stream",
     "text": [
      "ENTER THE FIRST NUMBER 4\n",
      "ENTER THE SECOND NUMBER 5\n",
      "SELECT ONE : +,-,%,/,* +\n"
     ]
    },
    {
     "name": "stdout",
     "output_type": "stream",
     "text": [
      "9\n"
     ]
    }
   ],
   "source": [
    "print(\"WELCOME TO MY CALCULATOR\")\n",
    "no1=int(input(\"ENTER THE FIRST NUMBER\"))\n",
    "no2=int(input(\"ENTER THE SECOND NUMBER\"))\n",
    "oper=input(\"SELECT ONE : +,-,%,/,*\")\n",
    "if oper=='+':\n",
    "    print(no1+no2)\n",
    "elif oper=='-':\n",
    "    print(no1-no2)\n",
    "elif oper=='%':\n",
    "    print(no1%no2)\n",
    "elif oper==\"/\":\n",
    "    print(no1/no2)\n",
    "elif oper==\"*\":\n",
    "    print(no1*no2)"
   ]
  },
  {
   "cell_type": "markdown",
   "id": "34715f5d-9cf9-4e0f-859e-db074c632dac",
   "metadata": {},
   "source": [
    "### SIDE QUEST "
   ]
  },
  {
   "cell_type": "markdown",
   "id": "51fb5681-77c4-41a9-aa21-733940c19880",
   "metadata": {},
   "source": [
    "Path A → Basic Calculator (loop until exit).\n",
    "\n",
    "Path B → History Mode (save & show all past operations).\n",
    "\n",
    "Path C → Multi-Number Mode (handle 3+ numbers in a single calculation).\n",
    "\n",
    "Path D → Smart Mode (handle errors, invalid inputs, divide by zero)."
   ]
  },
  {
   "cell_type": "markdown",
   "id": "bf272241-37b8-4356-8a73-fcee7339c487",
   "metadata": {},
   "source": [
    "### Ultimate Calculator App"
   ]
  },
  {
   "cell_type": "code",
   "execution_count": 1,
   "id": "4b111ad0-2cf6-402f-bf97-588b6ab48961",
   "metadata": {},
   "outputs": [
    {
     "name": "stdout",
     "output_type": "stream",
     "text": [
      "Welcome to the Ultimate Calculator App 🔥\n",
      "Features:\n",
      "Path A → Basic Calculator (loop until exit)\n",
      "Path B → History Mode (save & show all past operations)\n",
      "Path C → Multi-Number Mode (handle 3+ numbers in one calculation)\n",
      "Path D → Smart Mode (error handling, divide by zero, invalid inputs)\n",
      "\n",
      "Choose Mode:\n",
      "1 → Basic Calculator\n",
      "2 → History Mode\n",
      "3 → Multi-Number Mode\n",
      "4 → Exit\n"
     ]
    },
    {
     "name": "stdin",
     "output_type": "stream",
     "text": [
      "Enter choice (1/2/3/4):  1\n",
      "Enter calculation (example: 5 + 2) or 'back' to return:  7+9\n"
     ]
    },
    {
     "name": "stdout",
     "output_type": "stream",
     "text": [
      "Result = 16\n"
     ]
    },
    {
     "name": "stdin",
     "output_type": "stream",
     "text": [
      "Enter calculation (example: 5 + 2) or 'back' to return:  9-0\n"
     ]
    },
    {
     "name": "stdout",
     "output_type": "stream",
     "text": [
      "Result = 9\n"
     ]
    },
    {
     "name": "stdin",
     "output_type": "stream",
     "text": [
      "Enter calculation (example: 5 + 2) or 'back' to return:  8/9\n"
     ]
    },
    {
     "name": "stdout",
     "output_type": "stream",
     "text": [
      "Result = 0.8888888888888888\n"
     ]
    },
    {
     "name": "stdin",
     "output_type": "stream",
     "text": [
      "Enter calculation (example: 5 + 2) or 'back' to return:  6/8\n"
     ]
    },
    {
     "name": "stdout",
     "output_type": "stream",
     "text": [
      "Result = 0.75\n"
     ]
    },
    {
     "name": "stdin",
     "output_type": "stream",
     "text": [
      "Enter calculation (example: 5 + 2) or 'back' to return:  back\n"
     ]
    },
    {
     "name": "stdout",
     "output_type": "stream",
     "text": [
      "\n",
      "Choose Mode:\n",
      "1 → Basic Calculator\n",
      "2 → History Mode\n",
      "3 → Multi-Number Mode\n",
      "4 → Exit\n"
     ]
    },
    {
     "name": "stdin",
     "output_type": "stream",
     "text": [
      "Enter choice (1/2/3/4):  2\n"
     ]
    },
    {
     "name": "stdout",
     "output_type": "stream",
     "text": [
      "\n",
      "--- History ---\n",
      "7+9 = 16\n",
      "9-0 = 9\n",
      "8/9 = 0.8888888888888888\n",
      "6/8 = 0.75\n",
      "\n",
      "Choose Mode:\n",
      "1 → Basic Calculator\n",
      "2 → History Mode\n",
      "3 → Multi-Number Mode\n",
      "4 → Exit\n"
     ]
    },
    {
     "name": "stdin",
     "output_type": "stream",
     "text": [
      "Enter choice (1/2/3/4):  3\n",
      "Enter numbers separated by space:  4 5 6 6 7 \n",
      "Enter operator (+, -, *, /):  +\n"
     ]
    },
    {
     "name": "stdout",
     "output_type": "stream",
     "text": [
      "Result = 28.0\n",
      "\n",
      "Choose Mode:\n",
      "1 → Basic Calculator\n",
      "2 → History Mode\n",
      "3 → Multi-Number Mode\n",
      "4 → Exit\n"
     ]
    },
    {
     "name": "stdin",
     "output_type": "stream",
     "text": [
      "Enter choice (1/2/3/4):  exit\n"
     ]
    },
    {
     "name": "stdout",
     "output_type": "stream",
     "text": [
      "❌ Invalid choice. Try again.\n",
      "\n",
      "Choose Mode:\n",
      "1 → Basic Calculator\n",
      "2 → History Mode\n",
      "3 → Multi-Number Mode\n",
      "4 → Exit\n"
     ]
    },
    {
     "name": "stdin",
     "output_type": "stream",
     "text": [
      "Enter choice (1/2/3/4):  4\n"
     ]
    },
    {
     "name": "stdout",
     "output_type": "stream",
     "text": [
      "Exiting Calculator. Bye! 👋\n"
     ]
    }
   ],
   "source": [
    "print(\"Welcome to the Ultimate Calculator App 🔥\")\n",
    "print(\"Features:\")\n",
    "print(\"Path A → Basic Calculator (loop until exit)\")\n",
    "print(\"Path B → History Mode (save & show all past operations)\")\n",
    "print(\"Path C → Multi-Number Mode (handle 3+ numbers in one calculation)\")\n",
    "print(\"Path D → Smart Mode (error handling, divide by zero, invalid inputs)\")\n",
    "\n",
    "history = []  # to save all operations\n",
    "\n",
    "while True:\n",
    "    print(\"\\nChoose Mode:\")\n",
    "    print(\"1 → Basic Calculator\")\n",
    "    print(\"2 → History Mode\")\n",
    "    print(\"3 → Multi-Number Mode\")\n",
    "    print(\"4 → Exit\")\n",
    "\n",
    "    choice = input(\"Enter choice (1/2/3/4): \")\n",
    "\n",
    "    # Path A → Basic Calculator\n",
    "    if choice == \"1\":\n",
    "        while True:\n",
    "            expression = input(\"Enter calculation (example: 5 + 2) or 'back' to return: \")\n",
    "            if expression.lower() == \"back\":\n",
    "                break\n",
    "            try:\n",
    "                result = eval(expression)  # evaluates safely as math\n",
    "                print(\"Result =\", result)\n",
    "                history.append(expression + \" = \" + str(result))  # save in history\n",
    "            except ZeroDivisionError:\n",
    "                print(\"❌ Error: Cannot divide by zero.\")\n",
    "            except:\n",
    "                print(\"❌ Invalid input. Try again.\")\n",
    "\n",
    "    # Path B → History Mode\n",
    "    elif choice == \"2\":\n",
    "        if not history:\n",
    "            print(\"No history yet.\")\n",
    "        else:\n",
    "            print(\"\\n--- History ---\")\n",
    "            for h in history:\n",
    "                print(h)\n",
    "\n",
    "    # Path C → Multi-Number Mode\n",
    "    elif choice == \"3\":\n",
    "        numbers = input(\"Enter numbers separated by space: \").split()\n",
    "        operator = input(\"Enter operator (+, -, *, /): \")\n",
    "\n",
    "        try:\n",
    "            numbers = [float(n) for n in numbers]\n",
    "            result = numbers[0]\n",
    "\n",
    "            for n in numbers[1:]:\n",
    "                if operator == \"+\":\n",
    "                    result += n\n",
    "                elif operator == \"-\":\n",
    "                    result -= n\n",
    "                elif operator == \"*\":\n",
    "                    result *= n\n",
    "                elif operator == \"/\":\n",
    "                    if n == 0:\n",
    "                        raise ZeroDivisionError\n",
    "                    result /= n\n",
    "\n",
    "            print(\"Result =\", result)\n",
    "            history.append(\" \".join(map(str, numbers)) + \" \" + operator + \" = \" + str(result))\n",
    "\n",
    "        except ZeroDivisionError:\n",
    "            print(\"❌ Error: Divide by zero not allowed.\")\n",
    "        except:\n",
    "            print(\"❌ Invalid input in multi-number mode.\")\n",
    "\n",
    "    # Exit\n",
    "    elif choice == \"4\":\n",
    "        print(\"Exiting Calculator. Bye! 👋\")\n",
    "        break\n",
    "\n",
    "    else:\n",
    "        print(\"❌ Invalid choice. Try again.\")\n"
   ]
  },
  {
   "cell_type": "code",
   "execution_count": null,
   "id": "8753900d-fc5b-486b-b83f-da1db2631a03",
   "metadata": {},
   "outputs": [],
   "source": []
  }
 ],
 "metadata": {
  "kernelspec": {
   "display_name": "Python 3 (ipykernel)",
   "language": "python",
   "name": "python3"
  },
  "language_info": {
   "codemirror_mode": {
    "name": "ipython",
    "version": 3
   },
   "file_extension": ".py",
   "mimetype": "text/x-python",
   "name": "python",
   "nbconvert_exporter": "python",
   "pygments_lexer": "ipython3",
   "version": "3.12.4"
  }
 },
 "nbformat": 4,
 "nbformat_minor": 5
}
